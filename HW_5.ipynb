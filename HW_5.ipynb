{
 "cells": [
  {
   "cell_type": "markdown",
   "metadata": {},
   "source": [
    "### Problem 10.1 (Assign grades) \n",
    "Write a program that reads a list of scores and then assigns grades based on the following scheme:   \n",
    "The grade is A if score is >= best – 10.   \n",
    "The grade is B if score is >= best – 20.   \n",
    "The grade is C if score is >= best – 30.    \n",
    "The grade is D if score is >= best – 40.   \n",
    "The grade is F otherwise."
   ]
  },
  {
   "cell_type": "code",
   "execution_count": null,
   "metadata": {},
   "outputs": [],
   "source": [
    "# Read student scores to the list\n",
    "list_scores = [int(k) for k in input('Enter integers between 1 and 100: ').split()]     "
   ]
  },
  {
   "cell_type": "code",
   "execution_count": null,
   "metadata": {},
   "outputs": [],
   "source": [
    "# Function converts a score to a grade with best score given\n",
    "def score_to_grade(score, best_score):\n",
    "    if score >= best_score - 10:\n",
    "        return 'A'\n",
    "    \n",
    "    if score >= best_score - 20:\n",
    "        return 'B'\n",
    "    \n",
    "    if score >= best_score - 30:\n",
    "        return 'C'\n",
    "    \n",
    "    if score >= best_score - 40:\n",
    "        return 'D'\n",
    "    \n",
    "    return 'F'"
   ]
  },
  {
   "cell_type": "code",
   "execution_count": null,
   "metadata": {},
   "outputs": [],
   "source": [
    "# Create a list of grades from the list of scores\n",
    "best_score = max(list_scores)\n",
    "list_grades = [score_to_grade(score, best_score) for score in list_scores]\n",
    "\n",
    "# Print out student and grade\n",
    "for k in range(len(list_grades)):\n",
    "    print('Student {} score is {} and grade is {}'.format(k, list_scores[k], list_grades[k] ))\n",
    "    "
   ]
  },
  {
   "cell_type": "markdown",
   "metadata": {},
   "source": [
    "### Problem 10.3 (Count occurrence of numbers) \n",
    "Write a program that reads some integers between 1 and 100 and counts the occurrences of each. "
   ]
  },
  {
   "cell_type": "code",
   "execution_count": null,
   "metadata": {},
   "outputs": [],
   "source": [
    "# Read input intgers to the list\n",
    "list_ints = [int(k) for k in input('Enter integers between 1 and 100: ').split()]      \n",
    "\n",
    "# Create a list of input integers counts, initilize with zero counts for all\n",
    "list_ints_counts = max(list_ints) * [0]\n",
    "\n",
    "# Count the occurences of each input integer\n",
    "for k in list_ints:\n",
    "    list_ints_counts[k - 1] += 1"
   ]
  },
  {
   "cell_type": "code",
   "execution_count": null,
   "metadata": {},
   "outputs": [],
   "source": [
    "# Print each of input integers and its count\n",
    "for i in range(len(list_ints_counts)):\n",
    "    # Only print integers each with count > 0\n",
    "    if (list_ints_counts[i] > 0):\n",
    "        freq_string = 'times' if list_ints_counts[i] > 1 else 'time'\n",
    "        print('{} occurs {} {}'.format(i + 1, list_ints_counts[i], freq_string))"
   ]
  },
  {
   "cell_type": "markdown",
   "metadata": {},
   "source": [
    "### 10.5 (Print distinct numbers) \n",
    "Write a program that reads in numbers separated by a space in one line and displays distinct numbers (i.e., if a number appears mul- tiple times, it is displayed only once).   \n",
    "(Hint: Read all the numbers and store them in list1.  \n",
    "Create a new list list2. Add a number in list1 to list2.  \n",
    "If the number is already in the list, ignore it.) "
   ]
  },
  {
   "cell_type": "code",
   "execution_count": 1,
   "metadata": {},
   "outputs": [
    {
     "name": "stdout",
     "output_type": "stream",
     "text": [
      "Enter integers between 1 and 100: 1 2 3 2 1 6 3 4 5 2\n"
     ]
    },
    {
     "data": {
      "text/plain": [
       "[1, 2, 3, 2, 1, 6, 3, 4, 5, 2]"
      ]
     },
     "execution_count": 1,
     "metadata": {},
     "output_type": "execute_result"
    }
   ],
   "source": [
    "# Read input intgers to the list\n",
    "list_ints = [int(k) for k in input('Enter integers between 1 and 100: ').split()]  \n",
    "list_ints"
   ]
  },
  {
   "cell_type": "code",
   "execution_count": 4,
   "metadata": {},
   "outputs": [],
   "source": [
    "# Create a distinct list from the input list\n",
    "set_ints = []\n",
    "for k in list_ints:\n",
    "    if k not in set_ints:\n",
    "        set_ints.append(k)"
   ]
  },
  {
   "cell_type": "code",
   "execution_count": 6,
   "metadata": {},
   "outputs": [
    {
     "name": "stdout",
     "output_type": "stream",
     "text": [
      "The distinct numbers are:  [1, 2, 3, 6, 4, 5]\n"
     ]
    }
   ],
   "source": [
    "# Print out the distinct list of intergers\n",
    "print('The distinct numbers are: ', set_ints)"
   ]
  },
  {
   "cell_type": "markdown",
   "metadata": {},
   "source": [
    "### Problem 10.9 (Statistics: compute deviation) \n",
    "Exercise 5.46 computes the standard deviation of numbers.   \n",
    "This exercise uses a different but equivalent formula to compute the standard deviation of n numbers.  \n",
    "Write a test program that prompts the user to enter a list of numbers and displays the mean and standard deviation."
   ]
  },
  {
   "cell_type": "code",
   "execution_count": 7,
   "metadata": {},
   "outputs": [
    {
     "name": "stdout",
     "output_type": "stream",
     "text": [
      "Enter numbers: 1.9 2.5 3.7 2 1 6 3 4 5 2\n"
     ]
    },
    {
     "data": {
      "text/plain": [
       "[1.9, 2.5, 3.7, 2.0, 1.0, 6.0, 3.0, 4.0, 5.0, 2.0]"
      ]
     },
     "execution_count": 7,
     "metadata": {},
     "output_type": "execute_result"
    }
   ],
   "source": [
    "list_values = [float(k) for k in input('Enter numbers: ').split()]\n",
    "list_values"
   ]
  },
  {
   "cell_type": "code",
   "execution_count": 12,
   "metadata": {},
   "outputs": [],
   "source": [
    "# Function computes the mean of a list\n",
    "def mean(list_values):\n",
    "    return sum(list_values) / len(list_values)\n",
    "\n",
    "# Function computes the standard deviation: of a list\n",
    "def deviation(list_values):\n",
    "    mean_value = mean(list_values)\n",
    "    squared_errors = [(value - mean_value) ** 2 for value in list_values]\n",
    "    return (sum(squared_errors) / (len(squared_errors) - 1))**(.5)"
   ]
  },
  {
   "cell_type": "code",
   "execution_count": 14,
   "metadata": {},
   "outputs": [
    {
     "name": "stdout",
     "output_type": "stream",
     "text": [
      "3.11\n",
      "1.55738\n"
     ]
    }
   ],
   "source": [
    "print(round(mean(list_values), 5))\n",
    "print(round(deviation(list_values), 5))"
   ]
  },
  {
   "cell_type": "markdown",
   "metadata": {},
   "source": [
    "### Problem 11.1 (Sum elements column by column)\n",
    "Write a function that returns the sum of all the elements in a specified column in a matrix using the following header:\n",
    "def sumColumn(m, columnIndex):"
   ]
  },
  {
   "cell_type": "code",
   "execution_count": 75,
   "metadata": {},
   "outputs": [
    {
     "name": "stdout",
     "output_type": "stream",
     "text": [
      "Enter the size (rows x columns) of the matrix: 3 4\n",
      "Enter a 3-by-4 matrix row for row 0: 1.5 2 3 4\n",
      "Enter a 3-by-4 matrix row for row 1: 5.5 6 7 8\n",
      "Enter a 3-by-4 matrix row for row 2: 9.5 1 3 1\n"
     ]
    }
   ],
   "source": [
    "size = [int(k) for k in input('Enter the size (rows x columns) of the matrix: ').split()]\n",
    "matrix = []\n",
    "\n",
    "# Input the matrix\n",
    "for k in range(size[0]):\n",
    "    prompt_string = 'Enter a {}-by-{} matrix row for row {}: '.format(size[0], size[1], k)\n",
    "    row = [float(f) for f in input(prompt_string).split()]\n",
    "    matrix.append(row)"
   ]
  },
  {
   "cell_type": "code",
   "execution_count": 85,
   "metadata": {},
   "outputs": [],
   "source": [
    "def sumColumn(m, columnIndex):\n",
    "    computed_column = [m[row][columnIndex] for row in range(len(m))]\n",
    "    return sum(computed_column)"
   ]
  },
  {
   "cell_type": "code",
   "execution_count": 90,
   "metadata": {},
   "outputs": [
    {
     "name": "stdout",
     "output_type": "stream",
     "text": [
      "[1.5, 5.5, 9.5]\n",
      "Sum of the elements for column 0 is 16.5\n"
     ]
    }
   ],
   "source": [
    "columnIndex = 0\n",
    "print('Sum of the elements for column {} is 16.5'.format(columnIndex, sumColumn(matrix, columnIndex)))"
   ]
  },
  {
   "cell_type": "markdown",
   "metadata": {},
   "source": [
    "### 11.2 (Sum the major diagonal in a matrix) \n",
    "Write a function that sums all the numbers of the major diagonal in an n * n matrix of integers using the following header:  \n",
    "def sumMajorDiagonal(m):"
   ]
  },
  {
   "cell_type": "code",
   "execution_count": null,
   "metadata": {},
   "outputs": [],
   "source": [
    "size = int(input('Enter the size of a squared matrix: '))\n",
    "matrix = []\n",
    "\n",
    "# Input the matrix\n",
    "for k in range(size):\n",
    "    prompt_string = 'Enter a {}-by-{} matrix row for row {}: '.format(size, size, k)\n",
    "    row = [float(f) for f in input(prompt_string).split()]\n",
    "    matrix.append(row)"
   ]
  },
  {
   "cell_type": "code",
   "execution_count": 94,
   "metadata": {},
   "outputs": [
    {
     "data": {
      "text/plain": [
       "[[1.0, 2.0, 3.0, 4.0],\n",
       " [5.0, 6.5, 7.0, 8.0],\n",
       " [9.0, 10.0, 11.0, 12.0],\n",
       " [13.0, 14.0, 15.0, 16.0]]"
      ]
     },
     "execution_count": 94,
     "metadata": {},
     "output_type": "execute_result"
    }
   ],
   "source": [
    "matrix"
   ]
  },
  {
   "cell_type": "code",
   "execution_count": 95,
   "metadata": {},
   "outputs": [],
   "source": [
    "def sumMajorDiagonal(m):\n",
    "    diagonal_list = [m[k][k] for k in range(len(m))]\n",
    "    return sum(diagonal_list)"
   ]
  },
  {
   "cell_type": "code",
   "execution_count": 96,
   "metadata": {},
   "outputs": [
    {
     "data": {
      "text/plain": [
       "34.5"
      ]
     },
     "execution_count": 96,
     "metadata": {},
     "output_type": "execute_result"
    }
   ],
   "source": [
    "sumMajorDiagonal(matrix)"
   ]
  },
  {
   "cell_type": "markdown",
   "metadata": {},
   "source": [
    "### Problem 11.4 (Compute the weekly hours for each employee) \n",
    "Suppose the weekly hours for all employees are stored in a table.   \n",
    "Each row records an employee’s seven-day work hours with seven columns.   \n",
    "For example, the following table stores the work hours for eight employees.   \n",
    "Write a program that displays employees and their total hours in decreasing order of the total hours.   "
   ]
  },
  {
   "cell_type": "code",
   "execution_count": 97,
   "metadata": {},
   "outputs": [
    {
     "name": "stdout",
     "output_type": "stream",
     "text": [
      "Enter the number of employees: 8\n",
      "Enter number of hours from Sunday through Saturday that employee 0 works: 2 4 3 4 5 8 8\n",
      "Enter number of hours from Sunday through Saturday that employee 1 works: 7 3 4 3 3 4 4\n",
      "Enter number of hours from Sunday through Saturday that employee 2 works: 3 3 4 3 3 2 2\n",
      "Enter number of hours from Sunday through Saturday that employee 3 works: 9 3 4 7 3 4 1\n",
      "Enter number of hours from Sunday through Saturday that employee 4 works: 3 5 4 3 6 3 8\n",
      "Enter number of hours from Sunday through Saturday that employee 5 works: 3 4 4 6 3 4 4\n",
      "Enter number of hours from Sunday through Saturday that employee 6 works: 3 7 4 8 3 8 4\n",
      "Enter number of hours from Sunday through Saturday that employee 7 works: 6 3 5 9 2 7 9\n"
     ]
    }
   ],
   "source": [
    "size = int(input('Enter the number of employees: '))\n",
    "matrix = []\n",
    "\n",
    "# Input the matrix\n",
    "for k in range(size):\n",
    "    prompt_string = 'Enter number of hours from Sunday through Saturday that employee {} works: '.format(k)\n",
    "    row = [float(f) for f in input(prompt_string).split()]\n",
    "    matrix.append(row)"
   ]
  },
  {
   "cell_type": "code",
   "execution_count": 98,
   "metadata": {},
   "outputs": [
    {
     "data": {
      "text/plain": [
       "[[2.0, 4.0, 3.0, 4.0, 5.0, 8.0, 8.0],\n",
       " [7.0, 3.0, 4.0, 3.0, 3.0, 4.0, 4.0],\n",
       " [3.0, 3.0, 4.0, 3.0, 3.0, 2.0, 2.0],\n",
       " [9.0, 3.0, 4.0, 7.0, 3.0, 4.0, 1.0],\n",
       " [3.0, 5.0, 4.0, 3.0, 6.0, 3.0, 8.0],\n",
       " [3.0, 4.0, 4.0, 6.0, 3.0, 4.0, 4.0],\n",
       " [3.0, 7.0, 4.0, 8.0, 3.0, 8.0, 4.0],\n",
       " [6.0, 3.0, 5.0, 9.0, 2.0, 7.0, 9.0]]"
      ]
     },
     "execution_count": 98,
     "metadata": {},
     "output_type": "execute_result"
    }
   ],
   "source": [
    "matrix"
   ]
  },
  {
   "cell_type": "code",
   "execution_count": null,
   "metadata": {},
   "outputs": [],
   "source": [
    "def sum_weekly_"
   ]
  }
 ],
 "metadata": {
  "kernelspec": {
   "display_name": "Python 3",
   "language": "python",
   "name": "python3"
  },
  "language_info": {
   "codemirror_mode": {
    "name": "ipython",
    "version": 3
   },
   "file_extension": ".py",
   "mimetype": "text/x-python",
   "name": "python",
   "nbconvert_exporter": "python",
   "pygments_lexer": "ipython3",
   "version": "3.7.7"
  }
 },
 "nbformat": 4,
 "nbformat_minor": 4
}
