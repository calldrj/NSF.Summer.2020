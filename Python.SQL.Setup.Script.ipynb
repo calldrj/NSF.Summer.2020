{
 "cells": [
  {
   "cell_type": "code",
   "execution_count": 1,
   "metadata": {},
   "outputs": [
    {
     "name": "stdout",
     "output_type": "stream",
     "text": [
      "Connected to MySQL Server version  8.0.19\n",
      "Connected to database:  ('test',)\n",
      "[('DEPARTMENT',), ('EMPLOYEE',), ('PROJECT',)]\n",
      "MySQL connection is closed\n"
     ]
    }
   ],
   "source": [
    "import mysql.connector\n",
    "from mysql.connector import Error\n",
    "\n",
    "# Fill in the database you want to work on\n",
    "working_database = '_____'\n",
    "# Fill in your password for mySQL\n",
    "my_password = '_____'\n",
    "\n",
    "try:\n",
    "    connection = mysql.connector.connect(host='localhost',\n",
    "                                         database=working_database,\n",
    "                                         user='root',\n",
    "                                         password=my_password)\n",
    "    if connection.is_connected():\n",
    "        db_info = connection.get_server_info()\n",
    "        print('Connected to MySQL Server version ', db_info)\n",
    "        cursor = connection.cursor()\n",
    "        cursor.execute('select database();')\n",
    "        record = cursor.fetchone()\n",
    "        print('Connected to database: ', record)\n",
    "        cursor.execute('show tables;')\n",
    "        print(cursor.fetchall())\n",
    "        \n",
    "        \"\"\" Your Querry Running From Here\n",
    "        \"\"\"\n",
    "        #\n",
    "        #\n",
    "        #\n",
    "        #\n",
    "        \n",
    "        \n",
    "        \n",
    "        \n",
    "        \n",
    "        \n",
    "\n",
    "except Error as e:\n",
    "    print('Error while connecting to MySQL', e)\n",
    "finally:\n",
    "    if (connection.is_connected()):\n",
    "        cursor.close()\n",
    "        connection.close()\n",
    "        print('MySQL connection is closed')"
   ]
  },
  {
   "cell_type": "code",
   "execution_count": null,
   "metadata": {},
   "outputs": [],
   "source": []
  }
 ],
 "metadata": {
  "kernelspec": {
   "display_name": "Python 3",
   "language": "python",
   "name": "python3"
  },
  "language_info": {
   "codemirror_mode": {
    "name": "ipython",
    "version": 3
   },
   "file_extension": ".py",
   "mimetype": "text/x-python",
   "name": "python",
   "nbconvert_exporter": "python",
   "pygments_lexer": "ipython3",
   "version": "3.7.7"
  }
 },
 "nbformat": 4,
 "nbformat_minor": 4
}
