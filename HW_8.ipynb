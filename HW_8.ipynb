{
 "cells": [
  {
   "cell_type": "markdown",
   "metadata": {},
   "source": [
    "### Linear Regression\n",
    "The file AnscombesQuartet.csv contains four data sets.   \n",
    "Each set consists of 12 (x, y) pairs.   \n",
    "Perform a linear regression on each data set, finding the slope and y-intercept for y1 as a function of x1;   \n",
    "for y2 as a function of x2; for y3 as a function x3; and for y4 as a function of x4.   \n",
    "\n",
    "For each data set, plot the 12 points as a scatter plot, and on the same plot, plot the line of linear regression, so that you can clearly see both the line and the markers.   \n",
    "\n",
    "Round the slope and intercept to three significant figures and compare and contrast the results.   \n",
    "What do you conclude and (a) linear regression; and (b) its applicability to this data set?   \n",
    "(For comparison, the correct answers and plot can be found on the Wikipedia page for Anscombe’s Quartet.    \n",
    "Try calculating the results and making the plot before you look up the Wikipedia page.)"
   ]
  },
  {
   "cell_type": "code",
   "execution_count": 13,
   "metadata": {},
   "outputs": [],
   "source": [
    "import pandas as pd\n",
    "import matplotlib.pyplot as plt\n",
    "import numpy as np\n",
    "%matplotlib inline\n",
    "\n",
    "df = pd.read_csv('AnscombesQuartet.csv')"
   ]
  },
  {
   "cell_type": "code",
   "execution_count": 14,
   "metadata": {},
   "outputs": [
    {
     "name": "stdout",
     "output_type": "stream",
     "text": [
      "    x1     y1  x2    y2  x3     y3  x4     y4\n",
      "0   10   8.04  10  9.14  10   7.46   8   6.58\n",
      "1    8   6.95   8  8.14   8   6.77   8   5.76\n",
      "2   13   7.58  13  8.74  13  12.74   8   7.71\n",
      "3    9   8.81   9  8.77   9   7.11   8   8.84\n",
      "4   11   8.33  11  9.26  11   7.81   8   8.47\n",
      "5   14   9.96  14  8.10  14   8.84   8   7.04\n",
      "6    6   7.24   6  6.13   6   6.08   8   5.25\n",
      "7    4   4.26   4  3.10   4   5.39  19  12.50\n",
      "8   12  10.84  12  9.13  12   8.15   8   5.56\n",
      "9    7   4.82   7  7.26   7   6.42   8   7.91\n",
      "10   5   5.68   5  4.74   5   5.73   8   6.89\n"
     ]
    }
   ],
   "source": [
    "print(df)"
   ]
  },
  {
   "cell_type": "markdown",
   "metadata": {},
   "source": [
    "### Approach 1: Model linear regression using linear algebra"
   ]
  },
  {
   "cell_type": "code",
   "execution_count": 15,
   "metadata": {},
   "outputs": [
    {
     "name": "stdout",
     "output_type": "stream",
     "text": [
      "intercept by linear algrebra =  3.000090909090922\n",
      "slope by linear algrebra     =  0.500090909090908\n"
     ]
    }
   ],
   "source": [
    "\"\"\" Linear regression model using linear algrebra notation\n",
    "    Return a tuple (intercept, slope) of the linear approximation for the underlying data\n",
    "    x, y: numpy arrays of x-coordinate and y-coordinate\n",
    "\"\"\"\n",
    "def linear_regression_algrebra(x, y): \n",
    "    X, Y = sum(x), sum(y) \n",
    "    A, C = sum(x * x), sum(x * y) \n",
    "    n    = len(x) \n",
    "    Del  = n * A - X * X \n",
    "    \n",
    "    if Del == 0:\n",
    "        print(\"System is singular!\")\n",
    "        return (0, 0) \n",
    "    \n",
    "    a = (A * Y - X * C) / Del \n",
    "    b = (n * C - X * Y) / Del\n",
    "    return (a, b)\n",
    "\n",
    "x, y = np.array(df.x1), np.array(df.y1)\n",
    "\n",
    "intercept_al, slope_al = linear_regression_algrebra(x, y)\n",
    "print('intercept by linear algrebra = ', intercept_al)\n",
    "print('slope by linear algrebra     = ', slope_al)"
   ]
  },
  {
   "cell_type": "markdown",
   "metadata": {},
   "source": [
    "### Approach 2: Model linear regression using statistical method"
   ]
  },
  {
   "cell_type": "code",
   "execution_count": 16,
   "metadata": {},
   "outputs": [
    {
     "name": "stdout",
     "output_type": "stream",
     "text": [
      "intercept by statistical method =  3.0000909090909103\n",
      "slope by statistical method     =  0.5000909090909091\n"
     ]
    }
   ],
   "source": [
    "\"\"\" Linear regression model using statistical notation\n",
    "    Return a tuple (intercept, slope) of the linear approximation for the underlying data\n",
    "    x, y: numpy arrays of x-coordinate and y-coordinate\n",
    "\"\"\"\n",
    "def linear_regression_stat(x, y): \n",
    "    mux, muy = np.mean(x), np.mean(y)\n",
    "    sx, sy   = np.std(x, ddof=1), np.std(y, ddof=1)\n",
    "    r        = np.corrcoef(x,y)[1, 0]\n",
    "    b        = r * sy / sx\n",
    "    a        = muy - b * mux\n",
    "    \n",
    "    return (a, b)\n",
    "\n",
    "intercept_st, slope_st = linear_regression_stat(x, y)\n",
    "print('intercept by statistical method = ', intercept_st)\n",
    "print('slope by statistical method     = ', slope_st)"
   ]
  },
  {
   "cell_type": "markdown",
   "metadata": {},
   "source": [
    "### Approach 3: Model linear regression using built-in scipy"
   ]
  },
  {
   "cell_type": "code",
   "execution_count": 17,
   "metadata": {},
   "outputs": [
    {
     "name": "stdout",
     "output_type": "stream",
     "text": [
      "intercept by scipy method =  3.0000909090909103\n",
      "slope by scipy method     =  0.5000909090909091\n"
     ]
    }
   ],
   "source": [
    "\"\"\" Linear regression model using scipy\n",
    "    Return a list of model params including [slope, intercept, ...]\n",
    "    x, y: numpy arrays of x-coordinate and y-coordinate\n",
    "\"\"\"\n",
    "from scipy.stats import linregress\n",
    "lr = linregress(x, y)\n",
    "print('intercept by scipy method = ', lr[1])\n",
    "print('slope by scipy method     = ', lr[0])"
   ]
  },
  {
   "cell_type": "markdown",
   "metadata": {},
   "source": [
    "### Approach 4: Model linear regression using built-in scikit-learn"
   ]
  },
  {
   "cell_type": "code",
   "execution_count": 18,
   "metadata": {},
   "outputs": [
    {
     "name": "stdout",
     "output_type": "stream",
     "text": [
      "intercept by LinearRegression function =  3.0000909090909103\n",
      "slope by LinearRegression function     =  0.5000909090909091\n"
     ]
    }
   ],
   "source": [
    "\"\"\" Linear regression model using scikit-learn\n",
    "    x: numpy array of x-coordinate with shape (n_samples, n_features) \n",
    "    y: numpy arrays of y-coordinate with shape (n_samples, ) or (n_samples, n_targets)\n",
    "\"\"\"\n",
    "from sklearn.linear_model import LinearRegression\n",
    "model = LinearRegression()\n",
    "X = x.reshape(-1, 1)\n",
    "model.fit(X, y)\n",
    "print('intercept by LinearRegression function = ', model.intercept_)\n",
    "print('slope by LinearRegression function     = ', model.coef_[0])"
   ]
  },
  {
   "cell_type": "markdown",
   "metadata": {},
   "source": [
    "### Plot and compare the Anscombes Quartet "
   ]
  },
  {
   "cell_type": "code",
   "execution_count": 19,
   "metadata": {
    "scrolled": true
   },
   "outputs": [
    {
     "data": {
      "image/png": "[encoded data removed]",
      "text/plain": [
       "<Figure size 1152x576 with 4 Axes>"
      ]
     },
     "metadata": {
      "needs_background": "light"
     },
     "output_type": "display_data"
    }
   ],
   "source": [
    "# Index the columns of the dataframe\n",
    "df.columns = list(range(8))\n",
    "\n",
    "# Number of pair (x, y)\n",
    "n_pairs = len(df.columns) // 2\n",
    "\n",
    "# List contains the slopes anf intercepts of all models\n",
    "model_params = []\n",
    "\n",
    "# Set up subplots\n",
    "n_rows, n_cols = 2, n_pairs // 2\n",
    "colors = ['blue', 'orange', 'purple', 'green', 'red']\n",
    "fig, axes = plt.subplots(nrows=n_rows, ncols=n_cols)\n",
    "fig.set_size_inches(16, 8)\n",
    "\n",
    "# Draw the scatter plot and best-fit line\n",
    "for k in range(n_pairs):\n",
    "    # Process input data\n",
    "    X = np.array(df[2 * k]).reshape(-1, 1)\n",
    "    y = np.array(df[2 * k + 1])\n",
    "    \n",
    "    # Plot scatter\n",
    "    ax = axes[k // 2][k % 2]\n",
    "    ax.scatter(X, y, color=colors[k])\n",
    "    ax.set_xlim(min(X) - 1.5, max(X) + 1.5)\n",
    "    ax.grid()\n",
    "    ax.set_title('Model (x{}, y{})'.format(k + 1, k + 1))\n",
    "    \n",
    "    # Fit the linear regression model\n",
    "    model = LinearRegression()\n",
    "    model.fit(X, y)\n",
    "    \n",
    "    # Plot the best-fit line\n",
    "    model_params.append((model.coef_[0], model.intercept_))\n",
    "    X_b = np.array([min(X), max(X)])\n",
    "    y_b = X_b * model.coef_[0] + model.intercept_\n",
    "    ax.plot(X_b, y_b, color=colors[-1])\n",
    "    \n",
    "plt.show()"
   ]
  },
  {
   "cell_type": "markdown",
   "metadata": {},
   "source": [
    "### Print out the slope and intercept resulting from modeling each of the Anscombes Quartet"
   ]
  },
  {
   "cell_type": "code",
   "execution_count": 20,
   "metadata": {},
   "outputs": [
    {
     "name": "stdout",
     "output_type": "stream",
     "text": [
      "Model #1:\n",
      "\tslope = 0.500, and intercept = 3.000\n",
      "Model #2:\n",
      "\tslope = 0.500, and intercept = 3.001\n",
      "Model #3:\n",
      "\tslope = 0.500, and intercept = 3.002\n",
      "Model #4:\n",
      "\tslope = 0.500, and intercept = 3.002\n"
     ]
    }
   ],
   "source": [
    "for k, pair in enumerate(model_params):\n",
    "    print('Model #{}:'.format(k + 1))\n",
    "    print('\\tslope = {:.3f}, and intercept = {:.3f}'.format(pair[0], pair[1]))"
   ]
  },
  {
   "cell_type": "markdown",
   "metadata": {},
   "source": [
    "### Conclusion\n",
    "Although 4 data set of pairs can be described by an identical linear regression, they have different distributions.   \n",
    "The the data in first quarter (top left) my be best described by the model among the quartet.  \n",
    "The the data in second quarter (top right) my be best charaterized by a polynomial regression model.  \n",
    "The bottom two models become influenced by outliners.  \n",
    "\n",
    "*The regression itself cannot tell all about the dataset.*"
   ]
  },
  {
   "cell_type": "code",
   "execution_count": null,
   "metadata": {},
   "outputs": [],
   "source": []
  }
 ],
 "metadata": {
  "kernelspec": {
   "display_name": "Python 3",
   "language": "python",
   "name": "python3"
  },
  "language_info": {
   "codemirror_mode": {
    "name": "ipython",
    "version": 3
   },
   "file_extension": ".py",
   "mimetype": "text/x-python",
   "name": "python",
   "nbconvert_exporter": "python",
   "pygments_lexer": "ipython3",
   "version": "3.7.7"
  }
 },
 "nbformat": 4,
 "nbformat_minor": 4
}
