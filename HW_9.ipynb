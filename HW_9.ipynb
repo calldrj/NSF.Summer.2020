{
 "cells": [
  {
   "cell_type": "markdown",
   "metadata": {},
   "source": [
    "### Linear and Polynomial Regression\n",
    "Use the data set regression-data-set.csv for this example. Make sure you review the example “Polynomial Regression in Python” starting on page 77 of GSML before you start this.   \n",
    "#### (a) Read the data set into a data frame.   "
   ]
  },
  {
   "cell_type": "code",
   "execution_count": 2,
   "metadata": {},
   "outputs": [],
   "source": [
    "import pandas as pd\n",
    "df = pd.read_csv('regression-data-set.csv')"
   ]
  },
  {
   "cell_type": "code",
   "execution_count": 3,
   "metadata": {},
   "outputs": [
    {
     "name": "stdout",
     "output_type": "stream",
     "text": [
      "      x     y\n",
      "0  1.00  3.14\n",
      "1  1.14  3.17\n",
      "2  1.28  3.09\n",
      "3  1.42  3.08\n",
      "4  1.57  3.09\n",
      "- - - - - - - - - - - - - - - - - - - - \n",
      "<class 'pandas.core.frame.DataFrame'>\n",
      "RangeIndex: 100 entries, 0 to 99\n",
      "Data columns (total 2 columns):\n",
      " #   Column  Non-Null Count  Dtype  \n",
      "---  ------  --------------  -----  \n",
      " 0   x       100 non-null    float64\n",
      " 1   y       100 non-null    float64\n",
      "dtypes: float64(2)\n",
      "memory usage: 1.7 KB\n",
      "None\n"
     ]
    }
   ],
   "source": [
    "# check the dataframe\n",
    "print(df.head())\n",
    "print('- ' * 20)\n",
    "print(df.info())"
   ]
  },
  {
   "cell_type": "markdown",
   "metadata": {},
   "source": [
    "#### (b) Convert the x and y columns into numpy arrays"
   ]
  },
  {
   "cell_type": "code",
   "execution_count": 4,
   "metadata": {},
   "outputs": [
    {
     "name": "stdout",
     "output_type": "stream",
     "text": [
      "X shape = (100,), y shape = (100,)\n"
     ]
    }
   ],
   "source": [
    "import numpy as np\n",
    "X = np.array(df.x)\n",
    "y = np.array(df.y)\n",
    "print('X shape = {}, y shape = {}'.format(X.shape, y.shape))"
   ]
  },
  {
   "cell_type": "markdown",
   "metadata": {},
   "source": [
    "#### (c) Make a scatter plot of y as a function of x"
   ]
  },
  {
   "cell_type": "code",
   "execution_count": 5,
   "metadata": {},
   "outputs": [
    {
     "data": {
      "text/plain": [
       "<matplotlib.collections.PathCollection at 0x7ff641da3fd0>"
      ]
     },
     "execution_count": 5,
     "metadata": {},
     "output_type": "execute_result"
    },
    {
     "data": {
      "image/png": "[encoded data removed]",
      "text/plain": [
       "<Figure size 432x288 with 1 Axes>"
      ]
     },
     "metadata": {
      "needs_background": "light"
     },
     "output_type": "display_data"
    }
   ],
   "source": [
    "import matplotlib.pyplot as plt\n",
    "plt.scatter(X, y)"
   ]
  },
  {
   "cell_type": "markdown",
   "metadata": {},
   "source": [
    "#### d) Write a function that will perform polynomial fits of multiple degrees \n",
    "(say 1, 2, 3, ..., n) for a single train/test split of the data and   \n",
    "returns some measure of the means square error (or another error measure that you like).   \n",
    "You can either calculate the error yourself or use a built in function."
   ]
  },
  {
   "cell_type": "code",
   "execution_count": 6,
   "metadata": {},
   "outputs": [],
   "source": [
    "from sklearn.model_selection import train_test_split\n",
    "\n",
    "\"\"\" Split then fit a dataset into a polynomial regression\n",
    "    Return a list of mean squared errors of the coresponding degree of the polinomial fit\n",
    "    X: the predictors in numpy array of the dataset \n",
    "    y: the labels in numpy array of the dataset\n",
    "    max_degree: the largest polynomial degree the user want to fit\n",
    "\"\"\"\n",
    "def split_and_fit(X, y, max_degree):\n",
    "    X_train, X_test, y_train, y_test = train_test_split(X, y, test_size=0.2)\n",
    "    mean_squared_errors = fit_polynomials(X_train, y_train, X_test, y_test, max_degree)\n",
    "    \n",
    "    return mean_squared_errors\n",
    "\n",
    "\"\"\" Fit a dataset into a polynomial regression\n",
    "    Return a list of mean squared errors of the coresponding degree of the polynomial fit\n",
    "    X_train, X_test: the training and testing predictors in numpy array\n",
    "    y_train, y_test: the training and testing labels in numpy array\n",
    "    max_degree: the largest polynomial degree the user want to fit\n",
    "\"\"\"\n",
    "def fit_polynomials(X_train, y_train, X_test, y_test, max_degree): \n",
    "    test_size =len(X_test)\n",
    "    MSE = []\n",
    "    for p in range(max_degree):\n",
    "        coef   = np.polyfit(X_train, y_train, p + 1) \n",
    "        y_pred = np.polyval(coef, X_test) \n",
    "        MSE.append(sum((y_test - y_pred) ** 2) / test_size)\n",
    "    \n",
    "    return(np.array(MSE).T)"
   ]
  },
  {
   "cell_type": "markdown",
   "metadata": {},
   "source": [
    "### (e) Perform 100 train/test splits and collect the errors as a function of degree. \n",
    "You will have 100 errors for each degree."
   ]
  },
  {
   "cell_type": "code",
   "execution_count": 7,
   "metadata": {},
   "outputs": [],
   "source": [
    "max_degree = 15\n",
    "n_splits = 100\n",
    "MSE_list = []\n",
    "\n",
    "for k in range(n_splits):\n",
    "    MSE_list.append(split_and_fit(X, y, max_degree))"
   ]
  },
  {
   "cell_type": "code",
   "execution_count": 10,
   "metadata": {},
   "outputs": [
    {
     "data": {
      "text/html": [
       "<div>\n",
       "<style scoped>\n",
       "    .dataframe tbody tr th:only-of-type {\n",
       "        vertical-align: middle;\n",
       "    }\n",
       "\n",
       "    .dataframe tbody tr th {\n",
       "        vertical-align: top;\n",
       "    }\n",
       "\n",
       "    .dataframe thead th {\n",
       "        text-align: right;\n",
       "    }\n",
       "</style>\n",
       "<table border=\"1\" class=\"dataframe\">\n",
       "  <thead>\n",
       "    <tr style=\"text-align: right;\">\n",
       "      <th></th>\n",
       "      <th>0</th>\n",
       "      <th>1</th>\n",
       "      <th>2</th>\n",
       "      <th>3</th>\n",
       "      <th>4</th>\n",
       "      <th>5</th>\n",
       "      <th>6</th>\n",
       "      <th>7</th>\n",
       "      <th>8</th>\n",
       "      <th>9</th>\n",
       "      <th>10</th>\n",
       "      <th>11</th>\n",
       "      <th>12</th>\n",
       "      <th>13</th>\n",
       "      <th>14</th>\n",
       "    </tr>\n",
       "  </thead>\n",
       "  <tbody>\n",
       "    <tr>\n",
       "      <th>0</th>\n",
       "      <td>0.01985</td>\n",
       "      <td>0.02085</td>\n",
       "      <td>0.02148</td>\n",
       "      <td>0.01905</td>\n",
       "      <td>0.00645</td>\n",
       "      <td>0.00645</td>\n",
       "      <td>0.00256</td>\n",
       "      <td>0.00243</td>\n",
       "      <td>0.00231</td>\n",
       "      <td>0.00246</td>\n",
       "      <td>0.00246</td>\n",
       "      <td>0.00248</td>\n",
       "      <td>0.00268</td>\n",
       "      <td>0.00269</td>\n",
       "      <td>0.00291</td>\n",
       "    </tr>\n",
       "    <tr>\n",
       "      <th>1</th>\n",
       "      <td>0.02753</td>\n",
       "      <td>0.02742</td>\n",
       "      <td>0.02717</td>\n",
       "      <td>0.02391</td>\n",
       "      <td>0.00792</td>\n",
       "      <td>0.00791</td>\n",
       "      <td>0.00253</td>\n",
       "      <td>0.00220</td>\n",
       "      <td>0.00186</td>\n",
       "      <td>0.00185</td>\n",
       "      <td>0.00197</td>\n",
       "      <td>0.00202</td>\n",
       "      <td>0.00193</td>\n",
       "      <td>0.00203</td>\n",
       "      <td>0.00200</td>\n",
       "    </tr>\n",
       "    <tr>\n",
       "      <th>2</th>\n",
       "      <td>0.01909</td>\n",
       "      <td>0.01891</td>\n",
       "      <td>0.01873</td>\n",
       "      <td>0.01871</td>\n",
       "      <td>0.00362</td>\n",
       "      <td>0.00368</td>\n",
       "      <td>0.00225</td>\n",
       "      <td>0.00191</td>\n",
       "      <td>0.00291</td>\n",
       "      <td>0.00290</td>\n",
       "      <td>0.00297</td>\n",
       "      <td>0.00306</td>\n",
       "      <td>0.00269</td>\n",
       "      <td>0.00268</td>\n",
       "      <td>0.00268</td>\n",
       "    </tr>\n",
       "    <tr>\n",
       "      <th>3</th>\n",
       "      <td>0.01688</td>\n",
       "      <td>0.01681</td>\n",
       "      <td>0.01736</td>\n",
       "      <td>0.01795</td>\n",
       "      <td>0.00436</td>\n",
       "      <td>0.00435</td>\n",
       "      <td>0.00256</td>\n",
       "      <td>0.00219</td>\n",
       "      <td>0.00190</td>\n",
       "      <td>0.00189</td>\n",
       "      <td>0.00188</td>\n",
       "      <td>0.00188</td>\n",
       "      <td>0.00202</td>\n",
       "      <td>0.00201</td>\n",
       "      <td>0.00201</td>\n",
       "    </tr>\n",
       "    <tr>\n",
       "      <th>4</th>\n",
       "      <td>0.02554</td>\n",
       "      <td>0.02537</td>\n",
       "      <td>0.02752</td>\n",
       "      <td>0.02605</td>\n",
       "      <td>0.01027</td>\n",
       "      <td>0.01141</td>\n",
       "      <td>0.00278</td>\n",
       "      <td>0.00351</td>\n",
       "      <td>0.00231</td>\n",
       "      <td>0.00226</td>\n",
       "      <td>0.00230</td>\n",
       "      <td>0.00248</td>\n",
       "      <td>0.00190</td>\n",
       "      <td>0.00226</td>\n",
       "      <td>0.00350</td>\n",
       "    </tr>\n",
       "  </tbody>\n",
       "</table>\n",
       "</div>"
      ],
      "text/plain": [
       "         0        1        2        3        4        5        6        7  \\\n",
       "0  0.01985  0.02085  0.02148  0.01905  0.00645  0.00645  0.00256  0.00243   \n",
       "1  0.02753  0.02742  0.02717  0.02391  0.00792  0.00791  0.00253  0.00220   \n",
       "2  0.01909  0.01891  0.01873  0.01871  0.00362  0.00368  0.00225  0.00191   \n",
       "3  0.01688  0.01681  0.01736  0.01795  0.00436  0.00435  0.00256  0.00219   \n",
       "4  0.02554  0.02537  0.02752  0.02605  0.01027  0.01141  0.00278  0.00351   \n",
       "\n",
       "         8        9       10       11       12       13       14  \n",
       "0  0.00231  0.00246  0.00246  0.00248  0.00268  0.00269  0.00291  \n",
       "1  0.00186  0.00185  0.00197  0.00202  0.00193  0.00203  0.00200  \n",
       "2  0.00291  0.00290  0.00297  0.00306  0.00269  0.00268  0.00268  \n",
       "3  0.00190  0.00189  0.00188  0.00188  0.00202  0.00201  0.00201  \n",
       "4  0.00231  0.00226  0.00230  0.00248  0.00190  0.00226  0.00350  "
      ]
     },
     "execution_count": 10,
     "metadata": {},
     "output_type": "execute_result"
    }
   ],
   "source": [
    "df_MSE = pd.DataFrame(np.array(MSE_list))\n",
    "round(df_MSE.head(), 5)      "
   ]
  },
  {
   "cell_type": "code",
   "execution_count": 8,
   "metadata": {},
   "outputs": [
    {
     "name": "stdout",
     "output_type": "stream",
     "text": [
      "<class 'pandas.core.frame.DataFrame'>\n",
      "RangeIndex: 100 entries, 0 to 99\n",
      "Data columns (total 15 columns):\n",
      " #   Column  Non-Null Count  Dtype  \n",
      "---  ------  --------------  -----  \n",
      " 0   0       100 non-null    float64\n",
      " 1   1       100 non-null    float64\n",
      " 2   2       100 non-null    float64\n",
      " 3   3       100 non-null    float64\n",
      " 4   4       100 non-null    float64\n",
      " 5   5       100 non-null    float64\n",
      " 6   6       100 non-null    float64\n",
      " 7   7       100 non-null    float64\n",
      " 8   8       100 non-null    float64\n",
      " 9   9       100 non-null    float64\n",
      " 10  10      100 non-null    float64\n",
      " 11  11      100 non-null    float64\n",
      " 12  12      100 non-null    float64\n",
      " 13  13      100 non-null    float64\n",
      " 14  14      100 non-null    float64\n",
      "dtypes: float64(15)\n",
      "memory usage: 11.8 KB\n"
     ]
    }
   ],
   "source": [
    "df_MSE.info()"
   ]
  },
  {
   "cell_type": "code",
   "execution_count": 12,
   "metadata": {},
   "outputs": [
    {
     "data": {
      "text/html": [
       "<div>\n",
       "<style scoped>\n",
       "    .dataframe tbody tr th:only-of-type {\n",
       "        vertical-align: middle;\n",
       "    }\n",
       "\n",
       "    .dataframe tbody tr th {\n",
       "        vertical-align: top;\n",
       "    }\n",
       "\n",
       "    .dataframe thead th {\n",
       "        text-align: right;\n",
       "    }\n",
       "</style>\n",
       "<table border=\"1\" class=\"dataframe\">\n",
       "  <thead>\n",
       "    <tr style=\"text-align: right;\">\n",
       "      <th></th>\n",
       "      <th>0</th>\n",
       "      <th>1</th>\n",
       "      <th>2</th>\n",
       "      <th>3</th>\n",
       "      <th>4</th>\n",
       "      <th>5</th>\n",
       "      <th>6</th>\n",
       "      <th>7</th>\n",
       "      <th>8</th>\n",
       "      <th>9</th>\n",
       "      <th>10</th>\n",
       "      <th>11</th>\n",
       "      <th>12</th>\n",
       "      <th>13</th>\n",
       "      <th>14</th>\n",
       "    </tr>\n",
       "  </thead>\n",
       "  <tbody>\n",
       "    <tr>\n",
       "      <th>count</th>\n",
       "      <td>100.000</td>\n",
       "      <td>100.000</td>\n",
       "      <td>100.000</td>\n",
       "      <td>100.000</td>\n",
       "      <td>100.000</td>\n",
       "      <td>100.000</td>\n",
       "      <td>100.000</td>\n",
       "      <td>100.000</td>\n",
       "      <td>100.000</td>\n",
       "      <td>100.000</td>\n",
       "      <td>100.000</td>\n",
       "      <td>100.000</td>\n",
       "      <td>100.000</td>\n",
       "      <td>100.000</td>\n",
       "      <td>100.000</td>\n",
       "    </tr>\n",
       "    <tr>\n",
       "      <th>mean</th>\n",
       "      <td>0.021</td>\n",
       "      <td>0.021</td>\n",
       "      <td>0.022</td>\n",
       "      <td>0.021</td>\n",
       "      <td>0.009</td>\n",
       "      <td>0.010</td>\n",
       "      <td>0.003</td>\n",
       "      <td>0.003</td>\n",
       "      <td>0.003</td>\n",
       "      <td>0.004</td>\n",
       "      <td>0.004</td>\n",
       "      <td>0.022</td>\n",
       "      <td>0.032</td>\n",
       "      <td>0.010</td>\n",
       "      <td>0.148</td>\n",
       "    </tr>\n",
       "    <tr>\n",
       "      <th>std</th>\n",
       "      <td>0.005</td>\n",
       "      <td>0.005</td>\n",
       "      <td>0.005</td>\n",
       "      <td>0.007</td>\n",
       "      <td>0.006</td>\n",
       "      <td>0.018</td>\n",
       "      <td>0.003</td>\n",
       "      <td>0.001</td>\n",
       "      <td>0.007</td>\n",
       "      <td>0.013</td>\n",
       "      <td>0.017</td>\n",
       "      <td>0.198</td>\n",
       "      <td>0.292</td>\n",
       "      <td>0.064</td>\n",
       "      <td>1.419</td>\n",
       "    </tr>\n",
       "    <tr>\n",
       "      <th>min</th>\n",
       "      <td>0.013</td>\n",
       "      <td>0.013</td>\n",
       "      <td>0.013</td>\n",
       "      <td>0.012</td>\n",
       "      <td>0.003</td>\n",
       "      <td>0.003</td>\n",
       "      <td>0.001</td>\n",
       "      <td>0.001</td>\n",
       "      <td>0.001</td>\n",
       "      <td>0.001</td>\n",
       "      <td>0.001</td>\n",
       "      <td>0.001</td>\n",
       "      <td>0.001</td>\n",
       "      <td>0.001</td>\n",
       "      <td>0.001</td>\n",
       "    </tr>\n",
       "    <tr>\n",
       "      <th>25%</th>\n",
       "      <td>0.017</td>\n",
       "      <td>0.017</td>\n",
       "      <td>0.018</td>\n",
       "      <td>0.017</td>\n",
       "      <td>0.006</td>\n",
       "      <td>0.006</td>\n",
       "      <td>0.002</td>\n",
       "      <td>0.002</td>\n",
       "      <td>0.002</td>\n",
       "      <td>0.002</td>\n",
       "      <td>0.002</td>\n",
       "      <td>0.002</td>\n",
       "      <td>0.002</td>\n",
       "      <td>0.002</td>\n",
       "      <td>0.002</td>\n",
       "    </tr>\n",
       "    <tr>\n",
       "      <th>50%</th>\n",
       "      <td>0.021</td>\n",
       "      <td>0.021</td>\n",
       "      <td>0.021</td>\n",
       "      <td>0.020</td>\n",
       "      <td>0.008</td>\n",
       "      <td>0.008</td>\n",
       "      <td>0.003</td>\n",
       "      <td>0.002</td>\n",
       "      <td>0.002</td>\n",
       "      <td>0.002</td>\n",
       "      <td>0.002</td>\n",
       "      <td>0.002</td>\n",
       "      <td>0.002</td>\n",
       "      <td>0.003</td>\n",
       "      <td>0.003</td>\n",
       "    </tr>\n",
       "    <tr>\n",
       "      <th>75%</th>\n",
       "      <td>0.025</td>\n",
       "      <td>0.025</td>\n",
       "      <td>0.026</td>\n",
       "      <td>0.024</td>\n",
       "      <td>0.009</td>\n",
       "      <td>0.010</td>\n",
       "      <td>0.003</td>\n",
       "      <td>0.003</td>\n",
       "      <td>0.003</td>\n",
       "      <td>0.003</td>\n",
       "      <td>0.003</td>\n",
       "      <td>0.003</td>\n",
       "      <td>0.003</td>\n",
       "      <td>0.004</td>\n",
       "      <td>0.004</td>\n",
       "    </tr>\n",
       "    <tr>\n",
       "      <th>max</th>\n",
       "      <td>0.034</td>\n",
       "      <td>0.035</td>\n",
       "      <td>0.036</td>\n",
       "      <td>0.076</td>\n",
       "      <td>0.067</td>\n",
       "      <td>0.184</td>\n",
       "      <td>0.030</td>\n",
       "      <td>0.006</td>\n",
       "      <td>0.070</td>\n",
       "      <td>0.131</td>\n",
       "      <td>0.172</td>\n",
       "      <td>1.982</td>\n",
       "      <td>2.923</td>\n",
       "      <td>0.644</td>\n",
       "      <td>14.196</td>\n",
       "    </tr>\n",
       "  </tbody>\n",
       "</table>\n",
       "</div>"
      ],
      "text/plain": [
       "            0        1        2        3        4        5        6        7   \\\n",
       "count  100.000  100.000  100.000  100.000  100.000  100.000  100.000  100.000   \n",
       "mean     0.021    0.021    0.022    0.021    0.009    0.010    0.003    0.003   \n",
       "std      0.005    0.005    0.005    0.007    0.006    0.018    0.003    0.001   \n",
       "min      0.013    0.013    0.013    0.012    0.003    0.003    0.001    0.001   \n",
       "25%      0.017    0.017    0.018    0.017    0.006    0.006    0.002    0.002   \n",
       "50%      0.021    0.021    0.021    0.020    0.008    0.008    0.003    0.002   \n",
       "75%      0.025    0.025    0.026    0.024    0.009    0.010    0.003    0.003   \n",
       "max      0.034    0.035    0.036    0.076    0.067    0.184    0.030    0.006   \n",
       "\n",
       "            8        9        10       11       12       13       14  \n",
       "count  100.000  100.000  100.000  100.000  100.000  100.000  100.000  \n",
       "mean     0.003    0.004    0.004    0.022    0.032    0.010    0.148  \n",
       "std      0.007    0.013    0.017    0.198    0.292    0.064    1.419  \n",
       "min      0.001    0.001    0.001    0.001    0.001    0.001    0.001  \n",
       "25%      0.002    0.002    0.002    0.002    0.002    0.002    0.002  \n",
       "50%      0.002    0.002    0.002    0.002    0.002    0.003    0.003  \n",
       "75%      0.003    0.003    0.003    0.003    0.003    0.004    0.004  \n",
       "max      0.070    0.131    0.172    1.982    2.923    0.644   14.196  "
      ]
     },
     "execution_count": 12,
     "metadata": {},
     "output_type": "execute_result"
    }
   ],
   "source": [
    "round(df_MSE.describe(), 3)"
   ]
  },
  {
   "cell_type": "markdown",
   "metadata": {},
   "source": [
    "#### (f) For each degree, find the mean and standard deviation of the error."
   ]
  },
  {
   "cell_type": "code",
   "execution_count": 10,
   "metadata": {},
   "outputs": [],
   "source": [
    "MSE_mean_list = np.array(df_MSE.mean())\n",
    "MSE_std_list  = np.array(df_MSE.std())"
   ]
  },
  {
   "cell_type": "code",
   "execution_count": 11,
   "metadata": {},
   "outputs": [
    {
     "data": {
      "text/plain": [
       "array([0.02062   , 0.02115062, 0.02151531, 0.0206421 , 0.00849588,\n",
       "       0.00912672, 0.00291205, 0.00280383, 0.00228725, 0.00235629,\n",
       "       0.0025433 , 0.00281364, 0.00272447, 0.0031467 , 0.00371567])"
      ]
     },
     "execution_count": 11,
     "metadata": {},
     "output_type": "execute_result"
    }
   ],
   "source": [
    "MSE_mean_list"
   ]
  },
  {
   "cell_type": "code",
   "execution_count": 12,
   "metadata": {},
   "outputs": [
    {
     "data": {
      "text/plain": [
       "array([0.00427497, 0.00446087, 0.00471396, 0.00429456, 0.00226186,\n",
       "       0.00388548, 0.00078539, 0.00092736, 0.00048922, 0.00055602,\n",
       "       0.00108575, 0.00156873, 0.00122544, 0.00151626, 0.00308938])"
      ]
     },
     "execution_count": 12,
     "metadata": {},
     "output_type": "execute_result"
    }
   ],
   "source": [
    "MSE_std_list"
   ]
  },
  {
   "cell_type": "markdown",
   "metadata": {},
   "source": [
    "#### (g) Make a plot (you may want to use a logarithmic scale on the y-axis) of the error as a function of degree. \n",
    "(As an example, see the middle line, with the dots, below.)\n",
    "#### (h) On the same plot, add the mean plus/minus one sigma."
   ]
  },
  {
   "cell_type": "code",
   "execution_count": 13,
   "metadata": {},
   "outputs": [
    {
     "data": {
      "image/png": "[encoded data removed]",
      "text/plain": [
       "<Figure size 576x432 with 1 Axes>"
      ]
     },
     "metadata": {
      "needs_background": "light"
     },
     "output_type": "display_data"
    }
   ],
   "source": [
    "x = list(range(1, max_degree + 1))\n",
    "plt.yscale('log')\n",
    "plt.ylim(10**-9, 10**-1)\n",
    "plt.title('Mean Squared Errors vs. Polynomial Degrees of Regression')\n",
    "plt.xlabel('Polynomial Degrees')\n",
    "plt.ylabel('Mean Squared Error')\n",
    "plt.scatter(x, MSE_mean_list, color='blue')\n",
    "plt.plot(x, MSE_mean_list, color='red', linestyle='dashed')\n",
    "plt.plot(x, MSE_mean_list - MSE_std_list, color='green')\n",
    "plt.plot(x, MSE_mean_list + MSE_std_list, color='orange')\n",
    "plt.grid()\n",
    "plt.gcf().set_size_inches(8, 6)\n",
    "plt.show()"
   ]
  },
  {
   "cell_type": "markdown",
   "metadata": {},
   "source": [
    "#### (i) Using your own judgment, determine your favorite degree fit.\n",
    "*The best polynomial degree to fit = 8 because:   \n",
    "___the mean squared error begins reaching the lowest value___     \n",
    "___the mean of the mean squared error is closed to the mean plus/minus one sigma___         \n",
    "___8 is selected instead of 9 to keep the model some level of flexibility___"
   ]
  },
  {
   "cell_type": "code",
   "execution_count": 14,
   "metadata": {},
   "outputs": [
    {
     "data": {
      "image/png": "[encoded data removed]",
      "text/plain": [
       "<Figure size 576x576 with 1 Axes>"
      ]
     },
     "metadata": {
      "needs_background": "light"
     },
     "output_type": "display_data"
    }
   ],
   "source": [
    "selected_degree = 8\n",
    "coef = np.polyfit(X, y, selected_degree)\n",
    "Xp = np.linspace(np.min(X), np.max(X), X.size)\n",
    "yp = np.polyval(coef, Xp)\n",
    "\n",
    "plt.scatter(X, y, label='true data')\n",
    "plt.plot(Xp, yp, label='polynomial fit', color='red')\n",
    "plt.title('Modeling Data by a Polynomial Regression with {} Degrees'.format(selected_degree))\n",
    "plt.legend()\n",
    "plt.gcf().set_size_inches(8, 8)\n",
    "plt.show()"
   ]
  },
  {
   "cell_type": "code",
   "execution_count": null,
   "metadata": {},
   "outputs": [],
   "source": []
  }
 ],
 "metadata": {
  "kernelspec": {
   "display_name": "Python 3",
   "language": "python",
   "name": "python3"
  },
  "language_info": {
   "codemirror_mode": {
    "name": "ipython",
    "version": 3
   },
   "file_extension": ".py",
   "mimetype": "text/x-python",
   "name": "python",
   "nbconvert_exporter": "python",
   "pygments_lexer": "ipython3",
   "version": "3.7.7"
  }
 },
 "nbformat": 4,
 "nbformat_minor": 4
}
