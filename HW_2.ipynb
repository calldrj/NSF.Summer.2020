{
 "cells": [
  {
   "cell_type": "code",
   "execution_count": null,
   "metadata": {
    "colab": {},
    "colab_type": "code",
    "id": "GJww_G1yeU7S"
   },
   "outputs": [],
   "source": []
  },
  {
   "cell_type": "markdown",
   "metadata": {
    "colab_type": "text",
    "id": "xGmCyXi6ekgH"
   },
   "source": [
    "### Problem 3.5\n",
    "(Geometry: area of a regular polygon) A regular polygon is an n-sided polygon in which all sides are of the same length and all angles have the same degree (i.e., the polygon is both equilateral and equiangular). \n",
    "The formula for computing the area of a regular polygon is\n",
    "Area = n * (s^2) 4 * tan(pi/n)   \n",
    "Here, s is the length of a side.   \n",
    "Write a program that prompts the user to enter the number of sides and their length of a regular polygon and displays its area. "
   ]
  },
  {
   "cell_type": "code",
   "execution_count": 1,
   "metadata": {
    "colab": {
     "base_uri": "https://localhost:8080/",
     "height": 51
    },
    "colab_type": "code",
    "id": "xWMuF75JfMVH",
    "outputId": "67a441dc-7a47-45c0-b756-3bf32715b302"
   },
   "outputs": [
    {
     "name": "stdout",
     "output_type": "stream",
     "text": [
      "Enter the number of sides: 5\n",
      "Enter the side: 6.5\n"
     ]
    }
   ],
   "source": [
    "n = eval(input('Enter the number of sides: '))\n",
    "s = eval(input('Enter the side: '))"
   ]
  },
  {
   "cell_type": "markdown",
   "metadata": {
    "colab_type": "text",
    "id": "M_EIxvx-FcaU"
   },
   "source": []
  },
  {
   "cell_type": "code",
   "execution_count": null,
   "metadata": {
    "colab": {},
    "colab_type": "code",
    "id": "G7lpQZghFdta"
   },
   "outputs": [],
   "source": []
  },
  {
   "cell_type": "code",
   "execution_count": 2,
   "metadata": {
    "colab": {
     "base_uri": "https://localhost:8080/",
     "height": 34
    },
    "colab_type": "code",
    "id": "jeSqjenhfWst",
    "outputId": "ac1d51e9-57e4-4e6b-aa78-e472a3b7f7b8"
   },
   "outputs": [
    {
     "name": "stdout",
     "output_type": "stream",
     "text": [
      "The area of the polygon is 72.69017017488385\n"
     ]
    }
   ],
   "source": [
    "import math\n",
    "area = ((s/2)**2) * (n / math.tan(math.pi / n))\n",
    "print('The area of the polygon is ' + str(area))"
   ]
  },
  {
   "cell_type": "markdown",
   "metadata": {
    "colab_type": "text",
    "id": "zuNHhmGqfo9U"
   },
   "source": [
    "### Problem 4.25\n",
    "Write a program that prompts the user to enter four points and displays the intersecting point."
   ]
  },
  {
   "cell_type": "code",
   "execution_count": 3,
   "metadata": {
    "colab": {
     "base_uri": "https://localhost:8080/",
     "height": 34
    },
    "colab_type": "code",
    "id": "prdT4Y8FftV-",
    "outputId": "f6db80b0-b870-41ac-a17f-6ee95444c42e"
   },
   "outputs": [
    {
     "name": "stdout",
     "output_type": "stream",
     "text": [
      "Enter x1, y1, x2, y2, x3, y3, x4, y4: 2, 2, 5, -1, 4, 2, -1, -2\n"
     ]
    }
   ],
   "source": [
    "x1, y1, x2, y2, x3, y3, x4, y4 = eval(input('Enter x1, y1, x2, y2, x3, y3, x4, y4: '))"
   ]
  },
  {
   "cell_type": "code",
   "execution_count": 4,
   "metadata": {
    "colab": {
     "base_uri": "https://localhost:8080/",
     "height": 34
    },
    "colab_type": "code",
    "id": "IbYT5zhqf42N",
    "outputId": "30d795c3-20b5-4526-a313-51cc26a1202f"
   },
   "outputs": [
    {
     "name": "stdout",
     "output_type": "stream",
     "text": [
      "The intersecting point is at (2.889, 1.111)\n"
     ]
    }
   ],
   "source": [
    "a = y1 - y2\n",
    "b = x2 - x1\n",
    "c = y3 - y4\n",
    "d = x4 - x3\n",
    "e = a * x1 + b * y1\n",
    "f = c * x3 + d * y3\n",
    "delta = a * d - b * c\n",
    "\n",
    "if delta == 0:\n",
    "    print('The two lines are parallel')\n",
    "else:\n",
    "    x = (e * d - b * f) / delta\n",
    "    y = (a * f - e * c) / delta\n",
    "    print('The intersecting point is at ({:.3f}, {:.3f})'.format(x, y))\n",
    "    "
   ]
  },
  {
   "cell_type": "markdown",
   "metadata": {
    "colab_type": "text",
    "id": "lbR0S-KmgC-A"
   },
   "source": [
    "### Problem 4.31\n",
    "Given a directed line from point p0(x0, y0) to p1(x1, y1), you can use the following condition to decide whether a point p2(x2, y2) is on the left side of the line, on the right side of the line, or on the same line (see Figure 4.12):"
   ]
  },
  {
   "cell_type": "code",
   "execution_count": 5,
   "metadata": {
    "colab": {
     "base_uri": "https://localhost:8080/",
     "height": 34
    },
    "colab_type": "code",
    "id": "_rNk6LGUgEV6",
    "outputId": "bc0dd413-7d20-4c8c-fcfb-de3df63a87c3"
   },
   "outputs": [
    {
     "name": "stdout",
     "output_type": "stream",
     "text": [
      "Enter coordinates for the three points p0, p1, and p2:3.4, 2, 6.5, 9.5, -5, 4\n"
     ]
    }
   ],
   "source": [
    "x0, y0, x1, y1, x2, y2 = eval(input('Enter coordinates for the three points p0, p1, and p2:'))"
   ]
  },
  {
   "cell_type": "code",
   "execution_count": 6,
   "metadata": {
    "colab": {
     "base_uri": "https://localhost:8080/",
     "height": 34
    },
    "colab_type": "code",
    "id": "AV3iapEVgcJu",
    "outputId": "828655c8-9b69-4045-9018-926ffd1be78a"
   },
   "outputs": [
    {
     "name": "stdout",
     "output_type": "stream",
     "text": [
      "p2 is on the left side of the line\n"
     ]
    }
   ],
   "source": [
    "dx_10 = x1 - x0\n",
    "dx_20 = x2 - x0\n",
    "dy_10 = y1 - y0\n",
    "dy_20 = y2 - y0\n",
    "delta = dx_10 * dy_20 - dx_20 * dy_10\n",
    "\n",
    "if delta > 0:\n",
    "    print('p2 is on the left side of the line')\n",
    "elif delta == 0:\n",
    "    print('p2 is on the same side of the line')\n",
    "else:\n",
    "    print('p2 is on the right side of the line')"
   ]
  }
 ],
 "metadata": {
  "colab": {
   "collapsed_sections": [],
   "name": "HW_2.ipynb",
   "provenance": []
  },
  "kernelspec": {
   "display_name": "Python 3",
   "language": "python",
   "name": "python3"
  },
  "language_info": {
   "codemirror_mode": {
    "name": "ipython",
    "version": 3
   },
   "file_extension": ".py",
   "mimetype": "text/x-python",
   "name": "python",
   "nbconvert_exporter": "python",
   "pygments_lexer": "ipython3",
   "version": "3.7.7"
  }
 },
 "nbformat": 4,
 "nbformat_minor": 1
}
