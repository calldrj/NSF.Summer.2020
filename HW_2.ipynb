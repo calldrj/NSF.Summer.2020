{
  "nbformat": 4,
  "nbformat_minor": 0,
  "metadata": {
    "colab": {
      "name": "HW_2.ipynb",
      "provenance": [],
      "collapsed_sections": []
    },
    "kernelspec": {
      "name": "python3",
      "display_name": "Python 3"
    }
  },
  "cells": [
    {
      "cell_type": "code",
      "metadata": {
        "id": "GJww_G1yeU7S",
        "colab_type": "code",
        "colab": {}
      },
      "source": [
        ""
      ],
      "execution_count": null,
      "outputs": []
    },
    {
      "cell_type": "markdown",
      "metadata": {
        "id": "xGmCyXi6ekgH",
        "colab_type": "text"
      },
      "source": [
        "### Problem 3.5\n",
        "(Geometry: area of a regular polygon) A regular polygon is an n-sided polygon in which all sides are of the same length and all angles have the same degree (i.e., the polygon is both equilateral and equiangular). \n",
        "The formula for computing the area of a regular polygon is\n",
        "Area = n * (s^2) 4 * tan(pi/n)   \n",
        "Here, s is the length of a side.   \n",
        "Write a program that prompts the user to enter the number of sides and their length of a regular polygon and displays its area. "
      ]
    },
    {
      "cell_type": "code",
      "metadata": {
        "id": "xWMuF75JfMVH",
        "colab_type": "code",
        "colab": {
          "base_uri": "https://localhost:8080/",
          "height": 51
        },
        "outputId": "67a441dc-7a47-45c0-b756-3bf32715b302"
      },
      "source": [
        "n = eval(input('Enter the number of sides: '))\n",
        "s = eval(input('Enter the side: '))"
      ],
      "execution_count": 1,
      "outputs": [
        {
          "output_type": "stream",
          "text": [
            "Enter the number of sides: 5\n",
            "Enter the side: 6.5\n"
          ],
          "name": "stdout"
        }
      ]
    },
    {
      "cell_type": "markdown",
      "metadata": {
        "id": "M_EIxvx-FcaU",
        "colab_type": "text"
      },
      "source": [
        ""
      ]
    },
    {
      "cell_type": "code",
      "metadata": {
        "id": "G7lpQZghFdta",
        "colab_type": "code",
        "colab": {}
      },
      "source": [
        ""
      ],
      "execution_count": null,
      "outputs": []
    },
    {
      "cell_type": "code",
      "metadata": {
        "id": "jeSqjenhfWst",
        "colab_type": "code",
        "colab": {
          "base_uri": "https://localhost:8080/",
          "height": 34
        },
        "outputId": "ac1d51e9-57e4-4e6b-aa78-e472a3b7f7b8"
      },
      "source": [
        "import math\n",
        "area = ((s/2)**2) * (n / math.tan(math.pi / n))\n",
        "print('The area of the polygon is ' + str(area))"
      ],
      "execution_count": 2,
      "outputs": [
        {
          "output_type": "stream",
          "text": [
            "The area of the polygon is 72.69017017488385\n"
          ],
          "name": "stdout"
        }
      ]
    },
    {
      "cell_type": "markdown",
      "metadata": {
        "id": "zuNHhmGqfo9U",
        "colab_type": "text"
      },
      "source": [
        "Problem 4.25\n",
        "Write a program that prompts the user to enter four points and displays the intersecting point."
      ]
    },
    {
      "cell_type": "code",
      "metadata": {
        "id": "prdT4Y8FftV-",
        "colab_type": "code",
        "colab": {
          "base_uri": "https://localhost:8080/",
          "height": 34
        },
        "outputId": "f6db80b0-b870-41ac-a17f-6ee95444c42e"
      },
      "source": [
        "x1, y1, x2, y2, x3, y3, x4, y4 = eval(input('Enter x1, y1, x2, y2, x3, y3, x4, y4: '))"
      ],
      "execution_count": 3,
      "outputs": [
        {
          "output_type": "stream",
          "text": [
            "Enter x1, y1, x2, y2, x3, y3, x4, y4: 2, 2, 5, -1, 4, 2, -1, -2\n"
          ],
          "name": "stdout"
        }
      ]
    },
    {
      "cell_type": "code",
      "metadata": {
        "id": "IbYT5zhqf42N",
        "colab_type": "code",
        "colab": {
          "base_uri": "https://localhost:8080/",
          "height": 34
        },
        "outputId": "30d795c3-20b5-4526-a313-51cc26a1202f"
      },
      "source": [
        "a = y1 - y2\n",
        "b = x2 - x1\n",
        "c = y3 - y4\n",
        "d = x4 - x3\n",
        "e = a * x1 + b * y1\n",
        "f = c * x3 + d * y3\n",
        "delta = a * d - b * c\n",
        "\n",
        "if delta == 0:\n",
        "    print('The two lines are parallel')\n",
        "else:\n",
        "    x = (e * d - b * f) / delta\n",
        "    y = (a * f - e * c) / delta\n",
        "    print('The intersecting point is at ({:.3f}, {:.3f})'.format(x, y))\n",
        "    "
      ],
      "execution_count": 4,
      "outputs": [
        {
          "output_type": "stream",
          "text": [
            "The intersecting point is at (2.889, 1.111)\n"
          ],
          "name": "stdout"
        }
      ]
    },
    {
      "cell_type": "markdown",
      "metadata": {
        "id": "lbR0S-KmgC-A",
        "colab_type": "text"
      },
      "source": [
        "Problem 4.31\n",
        "Given a directed line from point p0(x0, y0) to p1(x1, y1), you can use the following condition to decide whether a point p2(x2, y2) is on the left side of the line, on the right side of the line, or on the same line (see Figure 4.12):"
      ]
    },
    {
      "cell_type": "code",
      "metadata": {
        "id": "_rNk6LGUgEV6",
        "colab_type": "code",
        "colab": {
          "base_uri": "https://localhost:8080/",
          "height": 34
        },
        "outputId": "bc0dd413-7d20-4c8c-fcfb-de3df63a87c3"
      },
      "source": [
        "x0, y0, x1, y1, x2, y2 = eval(input('Enter coordinates for the three points p0, p1, and p2:'))"
      ],
      "execution_count": 5,
      "outputs": [
        {
          "output_type": "stream",
          "text": [
            "Enter coordinates for the three points p0, p1, and p2:3.4, 2, 6.5, 9.5, -5, 4\n"
          ],
          "name": "stdout"
        }
      ]
    },
    {
      "cell_type": "code",
      "metadata": {
        "id": "AV3iapEVgcJu",
        "colab_type": "code",
        "colab": {
          "base_uri": "https://localhost:8080/",
          "height": 34
        },
        "outputId": "828655c8-9b69-4045-9018-926ffd1be78a"
      },
      "source": [
        "dx_10 = x1 - x0\n",
        "dx_20 = x2 - x0\n",
        "dy_10 = y1 - y0\n",
        "dy_20 = y2 - y0\n",
        "delta = dx_10 * dy_20 - dx_20 * dy_10\n",
        "\n",
        "if delta > 0:\n",
        "    print('p2 is on the left side of the line')\n",
        "elif delta == 0:\n",
        "    print('p2 is on the same side of the line')\n",
        "else:\n",
        "    print('p2 is on the right side of the line')"
      ],
      "execution_count": 6,
      "outputs": [
        {
          "output_type": "stream",
          "text": [
            "p2 is on the left side of the line\n"
          ],
          "name": "stdout"
        }
      ]
    }
  ]
}