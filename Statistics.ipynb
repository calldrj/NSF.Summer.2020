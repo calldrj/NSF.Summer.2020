{
 "cells": [
  {
   "cell_type": "markdown",
   "metadata": {},
   "source": [
    "#### Task 1.1\n",
    "Given an array, , of  integers, calculate and print the respective mean, median, and mode on separate lines. If your array contains more than one modal value, choose the numerically smallest one.\n",
    "\n",
    "#### Note: \n",
    "Other than the modal value (which will always be an integer), your answers should be in decimal form, rounded to a scale of  decimal place (i.e., ,  format)."
   ]
  },
  {
   "cell_type": "code",
   "execution_count": 1,
   "metadata": {},
   "outputs": [
    {
     "name": "stdout",
     "output_type": "stream",
     "text": [
      "10\n",
      "64630 11735 14216 99233 14470 4978 73429 38120 51135 67060\n",
      "43900.6\n",
      "44627.5\n",
      "4978\n"
     ]
    }
   ],
   "source": [
    "# Enter your code here. Read input from STDIN. Print output to STDOUT\n",
    "import pandas as pd\n",
    "\n",
    "n = int(input())\n",
    "X = list(map(int, input().split()))\n",
    "\n",
    "s = pd.Series(X)\n",
    "print(round(s.mean(), 1))\n",
    "print(round(s.median(), 1))\n",
    "print(s.mode()[0])"
   ]
  },
  {
   "cell_type": "markdown",
   "metadata": {},
   "source": [
    "#### Task 1.2\n",
    "Given an array, X, of n integers and an array, W, representing the respective weights of 's elements, calculate and print the weighted mean of 's elements. Your answer should be rounded to a scale of  decimal place (i.e.,  format).\n",
    "\n",
    "#### Input Format\n",
    "\n",
    "The first line contains an integer, n, denoting the number of elements in arrays X and W.\n",
    "The second line contains  space-separated integers describing the respective elements of array X.   \n",
    "The third line contains  space-separated integers describing the respective elements of array W."
   ]
  },
  {
   "cell_type": "code",
   "execution_count": 2,
   "metadata": {},
   "outputs": [
    {
     "name": "stdout",
     "output_type": "stream",
     "text": [
      "5\n",
      "10 20 30 40 50\n",
      "1 2 3 4 5\n",
      "36.7\n"
     ]
    }
   ],
   "source": [
    "n = int(input())\n",
    "X = list(map(int, input().split()))\n",
    "W = list(map(int, input().split()))\n",
    "\n",
    "X_product_W = [x * w for x, w in zip(X, W)]\n",
    "\n",
    "print(round((sum(X_product_W) / sum(W)), 1))"
   ]
  },
  {
   "cell_type": "markdown",
   "metadata": {},
   "source": [
    "#### Task 2.1\n",
    "Given an array, X, of n integers, calculate the respective first quartile (Q1), second quartile (Q2), and third quartile (Q3). \n",
    "\n",
    "#### Input Format\n",
    "\n",
    "The first line contains an integer, n, denoting the number of elements in the array.\n",
    "The second line contains n space-separated integers describing the array's elements."
   ]
  },
  {
   "cell_type": "code",
   "execution_count": 4,
   "metadata": {},
   "outputs": [
    {
     "name": "stdout",
     "output_type": "stream",
     "text": [
      "9\n",
      "3 7 8 5 12 14 21 13 18\n",
      "6\n",
      "12\n",
      "16\n"
     ]
    }
   ],
   "source": [
    "def median(X):\n",
    "    n = len(X)\n",
    "    l, r = (n - 1)//2, (n - 1)//2 + (n - 1) % 2\n",
    "    return int((X[l] + X[r])/2)\n",
    "\n",
    "n = int(input())\n",
    "X = [int(k) for k in input().split()]\n",
    "\n",
    "X = sorted(X) \n",
    "m = (n - 1)//2 + (n - 1) % 2\n",
    "\n",
    "print(median(X[:m]))\n",
    "print(median(X))\n",
    "print(median(X[-m:]))"
   ]
  },
  {
   "cell_type": "markdown",
   "metadata": {},
   "source": [
    "#### Task 2.2\n",
    "The interquartile range of an array is the difference between its first (Q1) and third (Q3) quartiles (i.e., ).    \n",
    "\n",
    "Given an array, X, of n integers and an array, F, representing the respective frequencies of 's elements, construct a data set, S, where each Xi occurs at frequency Fi. Then calculate and print S's interquartile range, rounded to a scale of  decimal place (i.e.,  format)."
   ]
  },
  {
   "cell_type": "code",
   "execution_count": 5,
   "metadata": {},
   "outputs": [
    {
     "name": "stdout",
     "output_type": "stream",
     "text": [
      "6\n",
      "6 12 8 10 20 16\n",
      "5 4 3 2 1 5\n",
      "9.0\n"
     ]
    }
   ],
   "source": [
    "def median(X):\n",
    "    n = len(X)\n",
    "    l, r = (n - 1)//2, (n - 1)//2 + (n - 1) % 2\n",
    "    return (X[l] + X[r]) / 2\n",
    "\n",
    "n = int(input())\n",
    "X = [int(x) for x in input().split()]\n",
    "F = [int(f) for f in input().split()]\n",
    "L = []\n",
    "\n",
    "for x, f in zip(X, F):\n",
    "    l = [x] * f\n",
    "    L.extend(l)\n",
    "\n",
    "L = sorted(L)\n",
    "m = (len(L) - 1)//2 + (len(L) - 1) % 2\n",
    "\n",
    "print(round(median(L[-m:]) - median(L[:m]), 1))"
   ]
  },
  {
   "cell_type": "markdown",
   "metadata": {},
   "source": [
    "#### Task\n",
    "Given an array, X, of n integers, calculate and print the standard deviation. Your answer should be in decimal form, rounded to a scale of  decimal place (i.e.,  format). An error margin of  will be tolerated for the standard deviation.\n",
    "\n",
    "#### Input Format\n",
    "\n",
    "The first line contains an integer, n, denoting the number of elements in the array.\n",
    "The second line contains n space-separated integers describing the respective elements of the array."
   ]
  },
  {
   "cell_type": "code",
   "execution_count": 6,
   "metadata": {},
   "outputs": [
    {
     "name": "stdout",
     "output_type": "stream",
     "text": [
      "5\n",
      "10 40 30 50 20\n",
      "14.1\n"
     ]
    }
   ],
   "source": [
    "n = int(input())\n",
    "X = [int(x) for x in input().split()]\n",
    "\n",
    "mean = sum(X) / n\n",
    "mean_squared_errors = [((x - mean)**2)/n for x in X]\n",
    "variance = sum(mean_squared_errors)\n",
    "\n",
    "print(round(variance**.5, 1))"
   ]
  },
  {
   "cell_type": "code",
   "execution_count": null,
   "metadata": {},
   "outputs": [],
   "source": []
  }
 ],
 "metadata": {
  "kernelspec": {
   "display_name": "Python 3",
   "language": "python",
   "name": "python3"
  },
  "language_info": {
   "codemirror_mode": {
    "name": "ipython",
    "version": 3
   },
   "file_extension": ".py",
   "mimetype": "text/x-python",
   "name": "python",
   "nbconvert_exporter": "python",
   "pygments_lexer": "ipython3",
   "version": "3.7.7"
  }
 },
 "nbformat": 4,
 "nbformat_minor": 4
}
