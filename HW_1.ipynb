{
 "cells": [
  {
   "cell_type": "markdown",
   "metadata": {},
   "source": [
    " ### Problem 1.11 (Population projection) \n",
    "The US Census Bureau projects population based on the following assumptions:   \n",
    "One birth every 7 seconds  \n",
    "One death every 13 seconds    \n",
    "One new immigrant every 45 seconds  \n",
    "Write a program to display the population for each of the next five years. Assume the current population is 312032486 and one year has 365 days. "
   ]
  },
  {
   "cell_type": "code",
   "execution_count": 1,
   "metadata": {},
   "outputs": [
    {
     "name": "stdout",
     "output_type": "stream",
     "text": [
      "Population in year 1: 314812583\n",
      "Population in year 2: 317592680\n",
      "Population in year 3: 320372777\n",
      "Population in year 4: 323152874\n",
      "Population in year 5: 325932971\n"
     ]
    }
   ],
   "source": [
    "# What are given\n",
    "years = 5\n",
    "pop_current = 312032486\n",
    "birth_rate = 1/7\n",
    "death_rate = -1/13\n",
    "immig_rate = 1/45\n",
    "year_in_seconds = 365 * 24 * 3600\n",
    "\n",
    "# Compute the rate growth in population per year\n",
    "pop_growth_rate = round(year_in_seconds * birth_rate) +\\\n",
    "round(year_in_seconds * death_rate) +\\\n",
    "round(year_in_seconds * immig_rate)\n",
    "\n",
    "# Asumme the population groww linearly per year\n",
    "print('Population in year 1:', str(pop_current + pop_growth_rate))\n",
    "print('Population in year 2:', str(pop_current + 2 * pop_growth_rate))\n",
    "print('Population in year 3:', str(pop_current + 3 * pop_growth_rate))\n",
    "print('Population in year 4:', str(pop_current + 4 * pop_growth_rate))\n",
    "print('Population in year 5:', str(pop_current + 5 * pop_growth_rate))"
   ]
  },
  {
   "cell_type": "markdown",
   "metadata": {},
   "source": [
    "### Problem 2.19 (Financial application: calculate future investment value) \n",
    "Write a program that reads in an investment amount, the annual interest rate, and the number of years,   \n",
    "and displays the future investment value using the following formula:    \n",
    "      \n",
    "      futureInvestmentValue = investmentAmount * (1 + monthlyInterestRate)^(numberOfMonths)\n",
    "    "
   ]
  },
  {
   "cell_type": "code",
   "execution_count": 5,
   "metadata": {},
   "outputs": [
    {
     "name": "stdout",
     "output_type": "stream",
     "text": [
      "Enter Investment Amount:1000\n",
      "Enter Monthly Interest Rate:4.25\n",
      "Enter Number of Years:1\n",
      "Accumulated value is  1043.34\n"
     ]
    }
   ],
   "source": [
    "invesmentAmount = eval(input('Enter Investment Amount:'))\n",
    "monthlyInterestRate = eval(input('Enter Monthly Interest Rate:'))\n",
    "numberOfYears = eval(input('Enter Number of Years:'))\n",
    "\n",
    "numberOfMonth = 12 * numberOfYears\n",
    "futureInvestmentValue = invesmentAmount * ((1 + monthlyInterestRate / 100 / 12) ** numberOfMonth)\n",
    "print('Accumulated value is ', round(futureInvestmentValue, 2))"
   ]
  },
  {
   "cell_type": "code",
   "execution_count": null,
   "metadata": {},
   "outputs": [],
   "source": []
  }
 ],
 "metadata": {
  "kernelspec": {
   "display_name": "Python 3",
   "language": "python",
   "name": "python3"
  },
  "language_info": {
   "codemirror_mode": {
    "name": "ipython",
    "version": 3
   },
   "file_extension": ".py",
   "mimetype": "text/x-python",
   "name": "python",
   "nbconvert_exporter": "python",
   "pygments_lexer": "ipython3",
   "version": "3.7.7"
  }
 },
 "nbformat": 4,
 "nbformat_minor": 4
}
