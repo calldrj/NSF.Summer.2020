{
 "cells": [
  {
   "cell_type": "markdown",
   "metadata": {},
   "source": [
    "#### 1. Make a new variable that loads the Titanic dataset."
   ]
  },
  {
   "cell_type": "code",
   "execution_count": 1,
   "metadata": {},
   "outputs": [],
   "source": [
    "import pandas as pd\n",
    "import matplotlib.pyplot as plt\n",
    "import numpy as np\n",
    "\n",
    "df = pd.read_csv('Titanic.csv')"
   ]
  },
  {
   "cell_type": "code",
   "execution_count": 2,
   "metadata": {},
   "outputs": [
    {
     "data": {
      "text/html": [
       "<div>\n",
       "<style scoped>\n",
       "    .dataframe tbody tr th:only-of-type {\n",
       "        vertical-align: middle;\n",
       "    }\n",
       "\n",
       "    .dataframe tbody tr th {\n",
       "        vertical-align: top;\n",
       "    }\n",
       "\n",
       "    .dataframe thead th {\n",
       "        text-align: right;\n",
       "    }\n",
       "</style>\n",
       "<table border=\"1\" class=\"dataframe\">\n",
       "  <thead>\n",
       "    <tr style=\"text-align: right;\">\n",
       "      <th></th>\n",
       "      <th>PassengerId</th>\n",
       "      <th>Survived</th>\n",
       "      <th>Pclass</th>\n",
       "      <th>Name</th>\n",
       "      <th>Sex</th>\n",
       "      <th>Age</th>\n",
       "      <th>SibSp</th>\n",
       "      <th>Parch</th>\n",
       "      <th>Ticket</th>\n",
       "      <th>Fare</th>\n",
       "      <th>Cabin</th>\n",
       "      <th>Embarked</th>\n",
       "    </tr>\n",
       "  </thead>\n",
       "  <tbody>\n",
       "    <tr>\n",
       "      <th>401</th>\n",
       "      <td>402</td>\n",
       "      <td>0</td>\n",
       "      <td>3</td>\n",
       "      <td>Adams, Mr. John</td>\n",
       "      <td>male</td>\n",
       "      <td>26.0</td>\n",
       "      <td>0</td>\n",
       "      <td>0</td>\n",
       "      <td>341826</td>\n",
       "      <td>8.0500</td>\n",
       "      <td>NaN</td>\n",
       "      <td>S</td>\n",
       "    </tr>\n",
       "    <tr>\n",
       "      <th>251</th>\n",
       "      <td>252</td>\n",
       "      <td>0</td>\n",
       "      <td>3</td>\n",
       "      <td>Strom, Mrs. Wilhelm (Elna Matilda Persson)</td>\n",
       "      <td>female</td>\n",
       "      <td>29.0</td>\n",
       "      <td>1</td>\n",
       "      <td>1</td>\n",
       "      <td>347054</td>\n",
       "      <td>10.4625</td>\n",
       "      <td>G6</td>\n",
       "      <td>S</td>\n",
       "    </tr>\n",
       "    <tr>\n",
       "      <th>580</th>\n",
       "      <td>581</td>\n",
       "      <td>1</td>\n",
       "      <td>2</td>\n",
       "      <td>Christy, Miss. Julie Rachel</td>\n",
       "      <td>female</td>\n",
       "      <td>25.0</td>\n",
       "      <td>1</td>\n",
       "      <td>1</td>\n",
       "      <td>237789</td>\n",
       "      <td>30.0000</td>\n",
       "      <td>NaN</td>\n",
       "      <td>S</td>\n",
       "    </tr>\n",
       "    <tr>\n",
       "      <th>748</th>\n",
       "      <td>749</td>\n",
       "      <td>0</td>\n",
       "      <td>1</td>\n",
       "      <td>Marvin, Mr. Daniel Warner</td>\n",
       "      <td>male</td>\n",
       "      <td>19.0</td>\n",
       "      <td>1</td>\n",
       "      <td>0</td>\n",
       "      <td>113773</td>\n",
       "      <td>53.1000</td>\n",
       "      <td>D30</td>\n",
       "      <td>S</td>\n",
       "    </tr>\n",
       "    <tr>\n",
       "      <th>19</th>\n",
       "      <td>20</td>\n",
       "      <td>1</td>\n",
       "      <td>3</td>\n",
       "      <td>Masselmani, Mrs. Fatima</td>\n",
       "      <td>female</td>\n",
       "      <td>NaN</td>\n",
       "      <td>0</td>\n",
       "      <td>0</td>\n",
       "      <td>2649</td>\n",
       "      <td>7.2250</td>\n",
       "      <td>NaN</td>\n",
       "      <td>C</td>\n",
       "    </tr>\n",
       "  </tbody>\n",
       "</table>\n",
       "</div>"
      ],
      "text/plain": [
       "     PassengerId  Survived  Pclass  \\\n",
       "401          402         0       3   \n",
       "251          252         0       3   \n",
       "580          581         1       2   \n",
       "748          749         0       1   \n",
       "19            20         1       3   \n",
       "\n",
       "                                           Name     Sex   Age  SibSp  Parch  \\\n",
       "401                             Adams, Mr. John    male  26.0      0      0   \n",
       "251  Strom, Mrs. Wilhelm (Elna Matilda Persson)  female  29.0      1      1   \n",
       "580                 Christy, Miss. Julie Rachel  female  25.0      1      1   \n",
       "748                   Marvin, Mr. Daniel Warner    male  19.0      1      0   \n",
       "19                      Masselmani, Mrs. Fatima  female   NaN      0      0   \n",
       "\n",
       "     Ticket     Fare Cabin Embarked  \n",
       "401  341826   8.0500   NaN        S  \n",
       "251  347054  10.4625    G6        S  \n",
       "580  237789  30.0000   NaN        S  \n",
       "748  113773  53.1000   D30        S  \n",
       "19     2649   7.2250   NaN        C  "
      ]
     },
     "execution_count": 2,
     "metadata": {},
     "output_type": "execute_result"
    }
   ],
   "source": [
    "df.sample(5)"
   ]
  },
  {
   "cell_type": "code",
   "execution_count": 3,
   "metadata": {},
   "outputs": [
    {
     "name": "stdout",
     "output_type": "stream",
     "text": [
      "<class 'pandas.core.frame.DataFrame'>\n",
      "RangeIndex: 891 entries, 0 to 890\n",
      "Data columns (total 12 columns):\n",
      " #   Column       Non-Null Count  Dtype  \n",
      "---  ------       --------------  -----  \n",
      " 0   PassengerId  891 non-null    int64  \n",
      " 1   Survived     891 non-null    int64  \n",
      " 2   Pclass       891 non-null    int64  \n",
      " 3   Name         891 non-null    object \n",
      " 4   Sex          891 non-null    object \n",
      " 5   Age          714 non-null    float64\n",
      " 6   SibSp        891 non-null    int64  \n",
      " 7   Parch        891 non-null    int64  \n",
      " 8   Ticket       891 non-null    object \n",
      " 9   Fare         891 non-null    float64\n",
      " 10  Cabin        204 non-null    object \n",
      " 11  Embarked     889 non-null    object \n",
      "dtypes: float64(2), int64(5), object(5)\n",
      "memory usage: 83.7+ KB\n"
     ]
    }
   ],
   "source": [
    "df.info()"
   ]
  },
  {
   "cell_type": "markdown",
   "metadata": {},
   "source": [
    "#### 2. Calculate the class distribution on survival on Titanic dataset. "
   ]
  },
  {
   "cell_type": "code",
   "execution_count": 4,
   "metadata": {},
   "outputs": [
    {
     "name": "stdout",
     "output_type": "stream",
     "text": [
      "Percentage of class distribution on survival on Titanic Dataset:\n",
      "\n"
     ]
    },
    {
     "data": {
      "text/plain": [
       "Pclass\n",
       "1    39.8\n",
       "2    25.4\n",
       "3    34.8\n",
       "Name: Survived, dtype: float64"
      ]
     },
     "execution_count": 4,
     "metadata": {},
     "output_type": "execute_result"
    }
   ],
   "source": [
    "total_survived = df.Survived.sum()\n",
    "print('Percentage of class distribution on survival on Titanic Dataset:\\n')\n",
    "round(df[df.Survived == 1].groupby('Pclass').count().Survived / total_survived * 100, 1)"
   ]
  },
  {
   "cell_type": "markdown",
   "metadata": {},
   "source": [
    "#### 3. Find the skewness on the data set. "
   ]
  },
  {
   "cell_type": "code",
   "execution_count": 5,
   "metadata": {},
   "outputs": [],
   "source": [
    "# Label encoding columns 'Sex' and 'Embarked'\n",
    "df['Sex'] = df['Sex'].apply(lambda g: 0 if g == 'male' else 1)\n",
    "df['Embarked'] = df['Embarked'].apply(lambda e: 0 if e == 'S' else 1 if e == 'C' else 2)"
   ]
  },
  {
   "cell_type": "code",
   "execution_count": 6,
   "metadata": {},
   "outputs": [
    {
     "data": {
      "image/png": "[encoded data removed]",
      "text/plain": [
       "<Figure size 1152x576 with 8 Axes>"
      ]
     },
     "metadata": {
      "needs_background": "light"
     },
     "output_type": "display_data"
    }
   ],
   "source": [
    "cat_features = ['Survived', 'Pclass', 'Sex', 'SibSp', 'Cabin', 'Parch', 'Ticket', 'Embarked']\n",
    "\n",
    "fig, axes = plt.subplots(nrows=2, ncols=4)\n",
    "fig.set_size_inches(16, 8)\n",
    "\n",
    "for k, feature in enumerate(cat_features):\n",
    "    ax = axes[k // 4][k % 4]\n",
    "    x = df[feature].value_counts().index\n",
    "    y = df[feature].value_counts()\n",
    "    if feature in ['Cabin', 'Ticket']:\n",
    "        label = 'skewness = N/A'\n",
    "    else:\n",
    "        label = 'skewnes = {:.2f}'.format(df[feature].skew())\n",
    "    ax.bar(x, y, label=label)\n",
    "    ax.set_title(\"Distribution of Feature '{}'\".format(feature))\n",
    "    ax.legend()\n",
    "    \n",
    "    if k % 4 == 0:\n",
    "        ax.set_ylabel('count')\n",
    "        \n",
    "    try:\n",
    "        ax.set_xticks(np.arange(np.min(x), np.max(x) + 1))\n",
    "    except:\n",
    "        continue"
   ]
  },
  {
   "cell_type": "code",
   "execution_count": 7,
   "metadata": {},
   "outputs": [
    {
     "data": {
      "image/png": "[encoded data removed]",
      "text/plain": [
       "<Figure size 1152x288 with 2 Axes>"
      ]
     },
     "metadata": {
      "needs_background": "light"
     },
     "output_type": "display_data"
    }
   ],
   "source": [
    "import warnings\n",
    "warnings.filterwarnings('ignore')\n",
    "numerical_features = ['Age', 'Fare']\n",
    "bins = [8, 16]\n",
    "fig, axes = plt.subplots(nrows=1, ncols=2)\n",
    "fig.set_size_inches(16, 4)\n",
    "\n",
    "for k, feature in enumerate(numerical_features):\n",
    "    ax = axes[k]\n",
    "    ax.hist(df[feature], bins=bins[k], histtype='step', color='m', label='skewness = {:.2f}'\\\n",
    "            .format(df[feature].skew()))\n",
    "    ax.set_title(\"Distribution of Feature '{}'\".format(feature))\n",
    "    ax.legend()"
   ]
  },
  {
   "cell_type": "markdown",
   "metadata": {},
   "source": [
    "#### 4. Use Pearson data correlation between the data set. \n",
    "Due to the Pearson score of the pair (SibSp, Survived) is closed to 0 and lowest, feature Sibsp can be the first candidate to be dropped."
   ]
  },
  {
   "cell_type": "code",
   "execution_count": 8,
   "metadata": {},
   "outputs": [
    {
     "data": {
      "text/html": [
       "<div>\n",
       "<style scoped>\n",
       "    .dataframe tbody tr th:only-of-type {\n",
       "        vertical-align: middle;\n",
       "    }\n",
       "\n",
       "    .dataframe tbody tr th {\n",
       "        vertical-align: top;\n",
       "    }\n",
       "\n",
       "    .dataframe thead th {\n",
       "        text-align: right;\n",
       "    }\n",
       "</style>\n",
       "<table border=\"1\" class=\"dataframe\">\n",
       "  <thead>\n",
       "    <tr style=\"text-align: right;\">\n",
       "      <th></th>\n",
       "      <th>Age</th>\n",
       "      <th>Fare</th>\n",
       "      <th>Parch</th>\n",
       "      <th>Pclass</th>\n",
       "      <th>Sex</th>\n",
       "      <th>SibSp</th>\n",
       "      <th>Survived</th>\n",
       "    </tr>\n",
       "  </thead>\n",
       "  <tbody>\n",
       "    <tr>\n",
       "      <th>Age</th>\n",
       "      <td>1.00</td>\n",
       "      <td>0.10</td>\n",
       "      <td>0.19</td>\n",
       "      <td>0.37</td>\n",
       "      <td>0.09</td>\n",
       "      <td>0.31</td>\n",
       "      <td>0.08</td>\n",
       "    </tr>\n",
       "    <tr>\n",
       "      <th>Fare</th>\n",
       "      <td>0.10</td>\n",
       "      <td>1.00</td>\n",
       "      <td>0.22</td>\n",
       "      <td>0.55</td>\n",
       "      <td>0.18</td>\n",
       "      <td>0.16</td>\n",
       "      <td>0.26</td>\n",
       "    </tr>\n",
       "    <tr>\n",
       "      <th>Parch</th>\n",
       "      <td>0.19</td>\n",
       "      <td>0.22</td>\n",
       "      <td>1.00</td>\n",
       "      <td>0.02</td>\n",
       "      <td>0.25</td>\n",
       "      <td>0.41</td>\n",
       "      <td>0.08</td>\n",
       "    </tr>\n",
       "    <tr>\n",
       "      <th>Pclass</th>\n",
       "      <td>0.37</td>\n",
       "      <td>0.55</td>\n",
       "      <td>0.02</td>\n",
       "      <td>1.00</td>\n",
       "      <td>0.13</td>\n",
       "      <td>0.08</td>\n",
       "      <td>0.34</td>\n",
       "    </tr>\n",
       "    <tr>\n",
       "      <th>Sex</th>\n",
       "      <td>0.09</td>\n",
       "      <td>0.18</td>\n",
       "      <td>0.25</td>\n",
       "      <td>0.13</td>\n",
       "      <td>1.00</td>\n",
       "      <td>0.11</td>\n",
       "      <td>0.54</td>\n",
       "    </tr>\n",
       "    <tr>\n",
       "      <th>SibSp</th>\n",
       "      <td>0.31</td>\n",
       "      <td>0.16</td>\n",
       "      <td>0.41</td>\n",
       "      <td>0.08</td>\n",
       "      <td>0.11</td>\n",
       "      <td>1.00</td>\n",
       "      <td>0.04</td>\n",
       "    </tr>\n",
       "    <tr>\n",
       "      <th>Survived</th>\n",
       "      <td>0.08</td>\n",
       "      <td>0.26</td>\n",
       "      <td>0.08</td>\n",
       "      <td>0.34</td>\n",
       "      <td>0.54</td>\n",
       "      <td>0.04</td>\n",
       "      <td>1.00</td>\n",
       "    </tr>\n",
       "  </tbody>\n",
       "</table>\n",
       "</div>"
      ],
      "text/plain": [
       "           Age  Fare  Parch  Pclass   Sex  SibSp  Survived\n",
       "Age       1.00  0.10   0.19    0.37  0.09   0.31      0.08\n",
       "Fare      0.10  1.00   0.22    0.55  0.18   0.16      0.26\n",
       "Parch     0.19  0.22   1.00    0.02  0.25   0.41      0.08\n",
       "Pclass    0.37  0.55   0.02    1.00  0.13   0.08      0.34\n",
       "Sex       0.09  0.18   0.25    0.13  1.00   0.11      0.54\n",
       "SibSp     0.31  0.16   0.41    0.08  0.11   1.00      0.04\n",
       "Survived  0.08  0.26   0.08    0.34  0.54   0.04      1.00"
      ]
     },
     "execution_count": 8,
     "metadata": {},
     "output_type": "execute_result"
    }
   ],
   "source": [
    "corr_features = ['Age', 'Fare', 'Parch', 'Pclass', 'Sex', 'SibSp', 'Survived']\n",
    "\n",
    "abs(round(df[corr_features].corr(method='pearson'), 2))"
   ]
  },
  {
   "cell_type": "markdown",
   "metadata": {},
   "source": [
    "#### 5. Run a Chi-squared test between Sex and Survived columns. "
   ]
  },
  {
   "cell_type": "code",
   "execution_count": 9,
   "metadata": {},
   "outputs": [],
   "source": [
    "from scipy.stats import chi2, chi2_contingency \n",
    "\n",
    "\"\"\" Function determines whether to reject or not a Null hypothesis: \n",
    "    two features of a dataset are independent give an significant value.\n",
    "    return a boolean value indicating the null hypothesis is rejected (True) or not (False) \n",
    "    feature_a, feature_b: two columns (series) of a Pandas dataframe\n",
    "    significant_value: the critical value for the test\n",
    "\"\"\"\n",
    "def reject_null_hypothesis(feature_a, feature_b, significant_value=.05):\n",
    "    table = pd.crosstab(feature_a, feature_b)\n",
    "    chi2_test, p, dof, expected_freq = chi2_contingency(table)\n",
    "    critical_value = chi2.ppf(1 - significant_value, dof)\n",
    "    \n",
    "    print('\\nThe test statistics:', chi2_test)\n",
    "    print('\\np value: ', p)\n",
    "    print('\\nThe degree of freedom:', dof)\n",
    "    print('\\nThe expected frequencies:\\n', expected_freq)\n",
    "    print('\\nCritical value:', critical_value)\n",
    "\n",
    "    return chi2_test >= critical_value"
   ]
  },
  {
   "cell_type": "code",
   "execution_count": 10,
   "metadata": {},
   "outputs": [
    {
     "name": "stdout",
     "output_type": "stream",
     "text": [
      "\n",
      "The test statistics: 260.71702016732104\n",
      "\n",
      "p value:  1.1973570627755645e-58\n",
      "\n",
      "The degree of freedom: 1\n",
      "\n",
      "The expected frequencies:\n",
      " [[355.52525253 221.47474747]\n",
      " [193.47474747 120.52525253]]\n",
      "\n",
      "Critical value: 3.841458820694124\n"
     ]
    },
    {
     "data": {
      "text/plain": [
       "True"
      ]
     },
     "execution_count": 10,
     "metadata": {},
     "output_type": "execute_result"
    }
   ],
   "source": [
    "reject_null_hypothesis(df.Sex, df.Survived)"
   ]
  },
  {
   "cell_type": "code",
   "execution_count": 11,
   "metadata": {},
   "outputs": [
    {
     "name": "stdout",
     "output_type": "stream",
     "text": [
      "\n",
      "The test statistics: 37.2717929152043\n",
      "\n",
      "p value:  1.5585810465902147e-06\n",
      "\n",
      "The degree of freedom: 6\n",
      "\n",
      "The expected frequencies:\n",
      " [[374.62626263 233.37373737]\n",
      " [128.77777778  80.22222222]\n",
      " [ 17.25252525  10.74747475]\n",
      " [  9.85858586   6.14141414]\n",
      " [ 11.09090909   6.90909091]\n",
      " [  3.08080808   1.91919192]\n",
      " [  4.31313131   2.68686869]]\n",
      "\n",
      "Critical value: 12.591587243743977\n"
     ]
    },
    {
     "data": {
      "text/plain": [
       "True"
      ]
     },
     "execution_count": 11,
     "metadata": {},
     "output_type": "execute_result"
    }
   ],
   "source": [
    "reject_null_hypothesis(df.SibSp, df.Survived)"
   ]
  },
  {
   "cell_type": "code",
   "execution_count": 12,
   "metadata": {},
   "outputs": [
    {
     "name": "stdout",
     "output_type": "stream",
     "text": [
      "\n",
      "The test statistics: 104.15604988902831\n",
      "\n",
      "p value:  0.10141111018860959\n",
      "\n",
      "The degree of freedom: 87\n",
      "\n",
      "The expected frequencies:\n",
      " [[ 0.59383754  0.40616246]\n",
      " [ 0.59383754  0.40616246]\n",
      " [ 1.18767507  0.81232493]\n",
      " [ 1.18767507  0.81232493]\n",
      " [ 0.59383754  0.40616246]\n",
      " [ 4.15686275  2.84313725]\n",
      " [ 5.93837535  4.06162465]\n",
      " [ 3.56302521  2.43697479]\n",
      " [ 5.93837535  4.06162465]\n",
      " [ 2.37535014  1.62464986]\n",
      " [ 1.78151261  1.21848739]\n",
      " [ 1.78151261  1.21848739]\n",
      " [ 2.37535014  1.62464986]\n",
      " [ 4.75070028  3.24929972]\n",
      " [ 1.18767507  0.81232493]\n",
      " [ 2.37535014  1.62464986]\n",
      " [ 0.59383754  0.40616246]\n",
      " [ 1.18767507  0.81232493]\n",
      " [ 3.56302521  2.43697479]\n",
      " [ 0.59383754  0.40616246]\n",
      " [ 2.96918768  2.03081232]\n",
      " [10.0952381   6.9047619 ]\n",
      " [ 7.71988796  5.28011204]\n",
      " [15.43977591 10.56022409]\n",
      " [14.84593838 10.15406162]\n",
      " [ 8.90756303  6.09243697]\n",
      " [ 0.59383754  0.40616246]\n",
      " [14.25210084  9.74789916]\n",
      " [16.03361345 10.96638655]\n",
      " [ 8.90756303  6.09243697]\n",
      " [ 0.59383754  0.40616246]\n",
      " [17.81512605 12.18487395]\n",
      " [ 0.59383754  0.40616246]\n",
      " [13.65826331  9.34173669]\n",
      " [10.68907563  7.31092437]\n",
      " [10.68907563  7.31092437]\n",
      " [14.84593838 10.15406162]\n",
      " [ 1.18767507  0.81232493]\n",
      " [11.8767507   8.1232493 ]\n",
      " [14.84593838 10.15406162]\n",
      " [ 1.18767507  0.81232493]\n",
      " [10.0952381   6.9047619 ]\n",
      " [10.68907563  7.31092437]\n",
      " [ 1.18767507  0.81232493]\n",
      " [ 8.90756303  6.09243697]\n",
      " [ 8.90756303  6.09243697]\n",
      " [ 0.59383754  0.40616246]\n",
      " [10.68907563  7.31092437]\n",
      " [13.06442577  8.93557423]\n",
      " [ 0.59383754  0.40616246]\n",
      " [ 3.56302521  2.43697479]\n",
      " [ 6.53221289  4.46778711]\n",
      " [ 8.31372549  5.68627451]\n",
      " [ 7.71988796  5.28011204]\n",
      " [ 1.18767507  0.81232493]\n",
      " [ 3.56302521  2.43697479]\n",
      " [ 7.71988796  5.28011204]\n",
      " [ 2.96918768  2.03081232]\n",
      " [ 5.34453782  3.65546218]\n",
      " [ 7.12605042  4.87394958]\n",
      " [ 1.18767507  0.81232493]\n",
      " [ 1.78151261  1.21848739]\n",
      " [ 5.34453782  3.65546218]\n",
      " [ 5.34453782  3.65546218]\n",
      " [ 3.56302521  2.43697479]\n",
      " [ 5.93837535  4.06162465]\n",
      " [ 4.15686275  2.84313725]\n",
      " [ 3.56302521  2.43697479]\n",
      " [ 0.59383754  0.40616246]\n",
      " [ 4.75070028  3.24929972]\n",
      " [ 1.18767507  0.81232493]\n",
      " [ 0.59383754  0.40616246]\n",
      " [ 2.37535014  1.62464986]\n",
      " [ 1.18767507  0.81232493]\n",
      " [ 2.96918768  2.03081232]\n",
      " [ 1.18767507  0.81232493]\n",
      " [ 2.37535014  1.62464986]\n",
      " [ 1.78151261  1.21848739]\n",
      " [ 2.37535014  1.62464986]\n",
      " [ 1.18767507  0.81232493]\n",
      " [ 1.18767507  0.81232493]\n",
      " [ 1.78151261  1.21848739]\n",
      " [ 0.59383754  0.40616246]\n",
      " [ 1.18767507  0.81232493]\n",
      " [ 0.59383754  0.40616246]\n",
      " [ 1.18767507  0.81232493]\n",
      " [ 0.59383754  0.40616246]\n",
      " [ 0.59383754  0.40616246]]\n",
      "\n",
      "Critical value: 109.77330935028795\n"
     ]
    },
    {
     "data": {
      "text/plain": [
       "False"
      ]
     },
     "execution_count": 12,
     "metadata": {},
     "output_type": "execute_result"
    }
   ],
   "source": [
    "reject_null_hypothesis(df.Age, df.Survived)"
   ]
  },
  {
   "cell_type": "code",
   "execution_count": null,
   "metadata": {},
   "outputs": [],
   "source": []
  }
 ],
 "metadata": {
  "kernelspec": {
   "display_name": "Python 3",
   "language": "python",
   "name": "python3"
  },
  "language_info": {
   "codemirror_mode": {
    "name": "ipython",
    "version": 3
   },
   "file_extension": ".py",
   "mimetype": "text/x-python",
   "name": "python",
   "nbconvert_exporter": "python",
   "pygments_lexer": "ipython3",
   "version": "3.7.7"
  }
 },
 "nbformat": 4,
 "nbformat_minor": 4
}
