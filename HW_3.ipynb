{
  "nbformat": 4,
  "nbformat_minor": 0,
  "metadata": {
    "colab": {
      "name": "HW_3.ipynb",
      "provenance": []
    },
    "kernelspec": {
      "name": "python3",
      "display_name": "Python 3"
    }
  },
  "cells": [
    {
      "cell_type": "markdown",
      "metadata": {
        "id": "iQOxHCP4FmCk",
        "colab_type": "text"
      },
      "source": [
        "### Problem 5.24\n",
        "Write a program that lets the user enter the loan amount, number of years, and interest rate, and then displays the amortization schedule for the loan."
      ]
    },
    {
      "cell_type": "code",
      "metadata": {
        "id": "dd7r6ZmeGic7",
        "colab_type": "code",
        "colab": {
          "base_uri": "https://localhost:8080/",
          "height": 68
        },
        "outputId": "adb9606d-148b-43f1-f473-7db66c78825f"
      },
      "source": [
        "balance = eval(input('Loan Amount: '))\n",
        "numberOfYears = eval(input('Number of Years: '))\n",
        "annualInterestRate = eval(input('Annual Interest Rate: '))"
      ],
      "execution_count": 19,
      "outputs": [
        {
          "output_type": "stream",
          "text": [
            "Loan Amount: 10000\n",
            "Number of Years: 1\n",
            "Annual Interest Rate: 7\n"
          ],
          "name": "stdout"
        }
      ]
    },
    {
      "cell_type": "code",
      "metadata": {
        "id": "Bjygzx3pHVXy",
        "colab_type": "code",
        "colab": {
          "base_uri": "https://localhost:8080/",
          "height": 51
        },
        "outputId": "0ad54e29-b5a5-4120-c91b-cfe3c587a667"
      },
      "source": [
        "monthlyInterestRate = annualInterestRate / 100 / 12\n",
        "numberOfMonths = 12 * numberOfYears\n",
        "print(monthlyInterestRate)\n",
        "print(monthlyInterestRate ** numberOfMonths)"
      ],
      "execution_count": 20,
      "outputs": [
        {
          "output_type": "stream",
          "text": [
            "0.005833333333333334\n",
            "1.552392470377269e-27\n"
          ],
          "name": "stdout"
        }
      ]
    },
    {
      "cell_type": "code",
      "metadata": {
        "id": "aqvhUIjjGTnA",
        "colab_type": "code",
        "colab": {
          "base_uri": "https://localhost:8080/",
          "height": 238
        },
        "outputId": "f647cb3f-6a38-4c74-a5bc-cbccb154cf26"
      },
      "source": [
        "print('Payment #', \"\\t\", 'Interest', \"\\t\", 'Principle', \"\\t\", 'Balance')\n",
        "for i in range(1, numberOfYears * 12 + 1): \n",
        "  interest = monthlyInterestRate * balance\n",
        "  monthlyPayment = (balance * monthlyInterestRate) / (1 - ((1 + monthlyInterestRate) ** numberOfMonths) ** (-1))\n",
        "  principal = monthlyPayment - interest \n",
        "  balance = balance - principal\n",
        "  print(i, \"\\t\\t\", round(interest, 2), \"\\t\\t\", round(principal, 2), \"\\t\", round(balance, 2))"
      ],
      "execution_count": 21,
      "outputs": [
        {
          "output_type": "stream",
          "text": [
            "Payment # \t Interest \t Principle \t Balance\n",
            "1 \t\t 58.33 \t\t 806.93 \t 9193.07\n",
            "2 \t\t 53.63 \t\t 741.82 \t 8451.25\n",
            "3 \t\t 49.3 \t\t 681.96 \t 7769.29\n",
            "4 \t\t 45.32 \t\t 626.93 \t 7142.36\n",
            "5 \t\t 41.66 \t\t 576.34 \t 6566.01\n",
            "6 \t\t 38.3 \t\t 529.83 \t 6036.18\n",
            "7 \t\t 35.21 \t\t 487.08 \t 5549.1\n",
            "8 \t\t 32.37 \t\t 447.78 \t 5101.32\n",
            "9 \t\t 29.76 \t\t 411.64 \t 4689.68\n",
            "10 \t\t 27.36 \t\t 378.43 \t 4311.26\n",
            "11 \t\t 25.15 \t\t 347.89 \t 3963.37\n",
            "12 \t\t 23.12 \t\t 319.82 \t 3643.55\n"
          ],
          "name": "stdout"
        }
      ]
    }
  ]
}