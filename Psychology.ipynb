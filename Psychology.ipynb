{
 "cells": [
  {
   "cell_type": "markdown",
   "metadata": {
    "colab_type": "text",
    "id": "K6kKVtaSvU-i"
   },
   "source": [
    "### 1. Import libraries, load and inspect datasets"
   ]
  },
  {
   "cell_type": "code",
   "execution_count": 44,
   "metadata": {
    "colab": {},
    "colab_type": "code",
    "id": "HR8NKW4NLSbZ"
   },
   "outputs": [],
   "source": [
    "import matplotlib.pyplot as plt\n",
    "import pandas as pd\n",
    "import numpy as np\n",
    "import seaborn as sns\n",
    "import warnings\n",
    "warnings.filterwarnings('ignore')\n",
    "\n",
    "df_train = pd.read_csv('survey/dataset_psycology_survey.csv')\n",
    "df_pred_ = pd.read_csv('survey/submission_psycology_survey.csv')"
   ]
  },
  {
   "cell_type": "markdown",
   "metadata": {
    "colab_type": "text",
    "id": "ST7MX55iQpdz"
   },
   "source": [
    "#### 1.1. Submission Dataset"
   ]
  },
  {
   "cell_type": "code",
   "execution_count": 45,
   "metadata": {
    "colab": {
     "base_uri": "https://localhost:8080/",
     "height": 440
    },
    "colab_type": "code",
    "id": "jPuLfoYEOcXZ",
    "outputId": "46407151-d237-4c1d-e280-6d04e3d8b92e"
   },
   "outputs": [
    {
     "name": "stdout",
     "output_type": "stream",
     "text": [
      "Submission dataset has 40 rows and 150 columns\n"
     ]
    },
    {
     "data": {
      "text/html": [
       "<div>\n",
       "<style scoped>\n",
       "    .dataframe tbody tr th:only-of-type {\n",
       "        vertical-align: middle;\n",
       "    }\n",
       "\n",
       "    .dataframe tbody tr th {\n",
       "        vertical-align: top;\n",
       "    }\n",
       "\n",
       "    .dataframe thead th {\n",
       "        text-align: right;\n",
       "    }\n",
       "</style>\n",
       "<table border=\"1\" class=\"dataframe\">\n",
       "  <thead>\n",
       "    <tr style=\"text-align: right;\">\n",
       "      <th></th>\n",
       "      <th>Unnamed: 0</th>\n",
       "      <th>Music</th>\n",
       "      <th>Slow songs or fast songs</th>\n",
       "      <th>Dance</th>\n",
       "      <th>Folk</th>\n",
       "      <th>Country</th>\n",
       "      <th>Classical music</th>\n",
       "      <th>Musical</th>\n",
       "      <th>Pop</th>\n",
       "      <th>Rock</th>\n",
       "      <th>...</th>\n",
       "      <th>Age</th>\n",
       "      <th>Height</th>\n",
       "      <th>Weight</th>\n",
       "      <th>Number of siblings</th>\n",
       "      <th>Gender</th>\n",
       "      <th>Left - right handed</th>\n",
       "      <th>Education</th>\n",
       "      <th>Only child</th>\n",
       "      <th>Village - town</th>\n",
       "      <th>House - block of flats</th>\n",
       "    </tr>\n",
       "  </thead>\n",
       "  <tbody>\n",
       "    <tr>\n",
       "      <th>33</th>\n",
       "      <td>33</td>\n",
       "      <td>5.0</td>\n",
       "      <td>4.0</td>\n",
       "      <td>3.0</td>\n",
       "      <td>1.0</td>\n",
       "      <td>1.0</td>\n",
       "      <td>2.0</td>\n",
       "      <td>3.0</td>\n",
       "      <td>3.0</td>\n",
       "      <td>4.0</td>\n",
       "      <td>...</td>\n",
       "      <td>20.0</td>\n",
       "      <td>178.0</td>\n",
       "      <td>74.0</td>\n",
       "      <td>0.0</td>\n",
       "      <td>male</td>\n",
       "      <td>right handed</td>\n",
       "      <td>secondary school</td>\n",
       "      <td>yes</td>\n",
       "      <td>village</td>\n",
       "      <td>block of flats</td>\n",
       "    </tr>\n",
       "    <tr>\n",
       "      <th>6</th>\n",
       "      <td>6</td>\n",
       "      <td>5.0</td>\n",
       "      <td>3.0</td>\n",
       "      <td>2.0</td>\n",
       "      <td>1.0</td>\n",
       "      <td>2.0</td>\n",
       "      <td>1.0</td>\n",
       "      <td>1.0</td>\n",
       "      <td>2.0</td>\n",
       "      <td>5.0</td>\n",
       "      <td>...</td>\n",
       "      <td>19.0</td>\n",
       "      <td>166.0</td>\n",
       "      <td>51.0</td>\n",
       "      <td>1.0</td>\n",
       "      <td>female</td>\n",
       "      <td>right handed</td>\n",
       "      <td>secondary school</td>\n",
       "      <td>no</td>\n",
       "      <td>city</td>\n",
       "      <td>block of flats</td>\n",
       "    </tr>\n",
       "    <tr>\n",
       "      <th>38</th>\n",
       "      <td>38</td>\n",
       "      <td>4.0</td>\n",
       "      <td>4.0</td>\n",
       "      <td>3.0</td>\n",
       "      <td>3.0</td>\n",
       "      <td>3.0</td>\n",
       "      <td>3.0</td>\n",
       "      <td>3.0</td>\n",
       "      <td>3.0</td>\n",
       "      <td>3.0</td>\n",
       "      <td>...</td>\n",
       "      <td>24.0</td>\n",
       "      <td>165.0</td>\n",
       "      <td>49.0</td>\n",
       "      <td>2.0</td>\n",
       "      <td>female</td>\n",
       "      <td>right handed</td>\n",
       "      <td>masters degree</td>\n",
       "      <td>no</td>\n",
       "      <td>city</td>\n",
       "      <td>block of flats</td>\n",
       "    </tr>\n",
       "    <tr>\n",
       "      <th>12</th>\n",
       "      <td>12</td>\n",
       "      <td>5.0</td>\n",
       "      <td>2.0</td>\n",
       "      <td>2.0</td>\n",
       "      <td>2.0</td>\n",
       "      <td>3.0</td>\n",
       "      <td>4.0</td>\n",
       "      <td>4.0</td>\n",
       "      <td>3.0</td>\n",
       "      <td>5.0</td>\n",
       "      <td>...</td>\n",
       "      <td>22.0</td>\n",
       "      <td>177.0</td>\n",
       "      <td>61.0</td>\n",
       "      <td>1.0</td>\n",
       "      <td>female</td>\n",
       "      <td>right handed</td>\n",
       "      <td>secondary school</td>\n",
       "      <td>no</td>\n",
       "      <td>city</td>\n",
       "      <td>block of flats</td>\n",
       "    </tr>\n",
       "    <tr>\n",
       "      <th>22</th>\n",
       "      <td>22</td>\n",
       "      <td>5.0</td>\n",
       "      <td>5.0</td>\n",
       "      <td>2.0</td>\n",
       "      <td>2.0</td>\n",
       "      <td>2.0</td>\n",
       "      <td>1.0</td>\n",
       "      <td>1.0</td>\n",
       "      <td>2.0</td>\n",
       "      <td>5.0</td>\n",
       "      <td>...</td>\n",
       "      <td>20.0</td>\n",
       "      <td>160.0</td>\n",
       "      <td>49.0</td>\n",
       "      <td>2.0</td>\n",
       "      <td>female</td>\n",
       "      <td>right handed</td>\n",
       "      <td>college/bachelor degree</td>\n",
       "      <td>yes</td>\n",
       "      <td>village</td>\n",
       "      <td>house/bungalow</td>\n",
       "    </tr>\n",
       "  </tbody>\n",
       "</table>\n",
       "<p>5 rows × 150 columns</p>\n",
       "</div>"
      ],
      "text/plain": [
       "    Unnamed: 0  Music  Slow songs or fast songs  Dance  Folk  Country  \\\n",
       "33          33    5.0                       4.0    3.0   1.0      1.0   \n",
       "6            6    5.0                       3.0    2.0   1.0      2.0   \n",
       "38          38    4.0                       4.0    3.0   3.0      3.0   \n",
       "12          12    5.0                       2.0    2.0   2.0      3.0   \n",
       "22          22    5.0                       5.0    2.0   2.0      2.0   \n",
       "\n",
       "    Classical music  Musical  Pop  Rock  ...   Age  Height  Weight  \\\n",
       "33              2.0      3.0  3.0   4.0  ...  20.0   178.0    74.0   \n",
       "6               1.0      1.0  2.0   5.0  ...  19.0   166.0    51.0   \n",
       "38              3.0      3.0  3.0   3.0  ...  24.0   165.0    49.0   \n",
       "12              4.0      4.0  3.0   5.0  ...  22.0   177.0    61.0   \n",
       "22              1.0      1.0  2.0   5.0  ...  20.0   160.0    49.0   \n",
       "\n",
       "    Number of siblings  Gender  Left - right handed                Education  \\\n",
       "33                 0.0    male         right handed         secondary school   \n",
       "6                  1.0  female         right handed         secondary school   \n",
       "38                 2.0  female         right handed           masters degree   \n",
       "12                 1.0  female         right handed         secondary school   \n",
       "22                 2.0  female         right handed  college/bachelor degree   \n",
       "\n",
       "    Only child  Village - town  House - block of flats  \n",
       "33         yes         village          block of flats  \n",
       "6           no            city          block of flats  \n",
       "38          no            city          block of flats  \n",
       "12          no            city          block of flats  \n",
       "22         yes         village          house/bungalow  \n",
       "\n",
       "[5 rows x 150 columns]"
      ]
     },
     "execution_count": 45,
     "metadata": {},
     "output_type": "execute_result"
    }
   ],
   "source": [
    "print('Submission dataset has {} rows and {} columns'.\\\n",
    "      format(df_pred_.shape[0], df_pred_.shape[1]))\n",
    "df_pred_.sample(5)"
   ]
  },
  {
   "cell_type": "markdown",
   "metadata": {
    "colab_type": "text",
    "id": "h1P5UBbzQpd2"
   },
   "source": [
    "#### 1.2. Training Dataset"
   ]
  },
  {
   "cell_type": "code",
   "execution_count": 46,
   "metadata": {
    "colab": {},
    "colab_type": "code",
    "id": "TUFWIYIxQpd3",
    "outputId": "c1f17edd-d405-4312-a1b8-5f81846820d6"
   },
   "outputs": [
    {
     "name": "stdout",
     "output_type": "stream",
     "text": [
      "Training dataset has 970 rows and 150 columns\n",
      "\n",
      "* * * * * * * * * * * * * * * * * * * * * * * * * * * * * * * * * * * * * * * * \n",
      "   Music  Slow songs or fast songs  Dance  Folk  Country  Classical music  \\\n",
      "0    5.0                       3.0    2.0   1.0      2.0              2.0   \n",
      "1    4.0                       4.0    2.0   1.0      1.0              1.0   \n",
      "2    5.0                       5.0    2.0   2.0      3.0              4.0   \n",
      "3    5.0                       3.0    2.0   1.0      1.0              1.0   \n",
      "4    5.0                       3.0    4.0   3.0      2.0              4.0   \n",
      "\n",
      "   Musical  Pop  Rock  Metal or Hardrock  ...   Age  Height  Weight  \\\n",
      "0      1.0  5.0   5.0                1.0  ...  20.0   163.0    48.0   \n",
      "1      2.0  3.0   5.0                4.0  ...  19.0   163.0    58.0   \n",
      "2      5.0  3.0   5.0                3.0  ...  20.0   176.0    67.0   \n",
      "3      1.0  2.0   2.0                1.0  ...  22.0   172.0    59.0   \n",
      "4      3.0  5.0   3.0                1.0  ...  20.0   170.0    59.0   \n",
      "\n",
      "   Number of siblings  Gender  Left - right handed                Education  \\\n",
      "0                 1.0  female         right handed  college/bachelor degree   \n",
      "1                 2.0  female         right handed  college/bachelor degree   \n",
      "2                 2.0  female         right handed         secondary school   \n",
      "3                 1.0  female         right handed  college/bachelor degree   \n",
      "4                 1.0  female         right handed         secondary school   \n",
      "\n",
      "   Only child  Village - town  House - block of flats  \n",
      "0          no         village          block of flats  \n",
      "1          no            city          block of flats  \n",
      "2          no            city          block of flats  \n",
      "3         yes            city                   house  \n",
      "4          no         village          house/bungalow  \n",
      "\n",
      "[5 rows x 150 columns]\n"
     ]
    }
   ],
   "source": [
    "print('Training dataset has {} rows and {} columns'.format(df_train.shape[0], df_train.shape[1]))\n",
    "print('\\n' + '* ' * 40)\n",
    "print(df_train.head())"
   ]
  },
  {
   "cell_type": "markdown",
   "metadata": {
    "colab_type": "text",
    "id": "Qj7_P2vRQpd5"
   },
   "source": [
    "#### 1.3. Find the target column by mismatching columns between 2 datasets"
   ]
  },
  {
   "cell_type": "code",
   "execution_count": 47,
   "metadata": {
    "colab": {},
    "colab_type": "code",
    "id": "UVEADtaoQpd5",
    "outputId": "d7ff7299-eeb8-4cae-fda5-e2d77cafde50"
   },
   "outputs": [
    {
     "name": "stdout",
     "output_type": "stream",
     "text": [
      "['Spending on healthy eating']\n",
      "['Unnamed: 0']\n"
     ]
    }
   ],
   "source": [
    "train_pred = [x for x in df_train.columns if x not in df_pred_.columns]\n",
    "pred_train = [x for x in df_pred_.columns if x not in df_train.columns]\n",
    "print(train_pred)\n",
    "print(pred_train)"
   ]
  },
  {
   "cell_type": "markdown",
   "metadata": {
    "colab_type": "text",
    "id": "5fy8LeQ2Qpd8"
   },
   "source": [
    "#### 1.4. Select 35 relevant features for the target\n",
    "The task of the problem is to predict how a person will rate the quote,      \n",
    "**\"I will hapilly pay more money for good, quality or healthy food.\"**       \n",
    "in a scale from 1 to 5 in which 1 is strongly disagree, and 5 is strongly agree,     \n",
    "given serveral of the individual rating on the other quotes (features).    \n",
    "We picked 35 features out of 150 that we think they are relevant to the task."
   ]
  },
  {
   "cell_type": "code",
   "execution_count": 48,
   "metadata": {
    "colab": {
     "base_uri": "https://localhost:8080/",
     "height": 71
    },
    "colab_type": "code",
    "id": "51oMvmFmPiAq",
    "outputId": "92d7ce2a-c709-44f5-9068-6b21e539dc0e"
   },
   "outputs": [
    {
     "name": "stdout",
     "output_type": "stream",
     "text": [
      "35 features are selected:\n",
      "\n",
      "['Economy Management', 'Biology', 'Medicine', 'Countryside, outdoors', 'Dancing', 'Passive sport', 'Active sport', 'Gardening', 'Celebrities', 'Shopping', 'Science and technology', 'Adrenaline sports', 'Smoking', 'Alcohol', 'Healthy eating', 'Hypochondria', 'Eating to survive', 'Health', 'Appearence and gestures', 'Happiness in life', 'Energy levels', 'Personality', 'Internet usage', 'Finances', 'Shopping centres', 'Branded clothing', 'Entertainment spending', 'Spending on looks', 'Spending on gadgets', 'Age', 'Height', 'Weight', 'Number of siblings', 'Gender', 'Education']\n"
     ]
    }
   ],
   "source": [
    "# List of selected features indice in the training dataframe\n",
    "features_idx = [38,39,44,49,50,53,54,55,56,57,58,61,73,74,\n",
    "                75,93,95,101,112,123,124,126,132,133,134,\n",
    "                135,136,137,138,140,141,142,143,144,146]\n",
    "features = [df_train.columns.to_list()[k] for k in features_idx]\n",
    "print(len(features), 'features are selected:\\n')\n",
    "print(features)"
   ]
  },
  {
   "cell_type": "markdown",
   "metadata": {
    "colab_type": "text",
    "id": "zhBzUgymQpd_"
   },
   "source": [
    "### 2. Perform EDA for the Datasets"
   ]
  },
  {
   "cell_type": "code",
   "execution_count": 49,
   "metadata": {
    "colab": {
     "base_uri": "https://localhost:8080/",
     "height": 105
    },
    "colab_type": "code",
    "id": "BEWKdYWpbfcT",
    "outputId": "4fb97d5e-719b-4827-f770-a9ae1118e3d6"
   },
   "outputs": [
    {
     "name": "stdout",
     "output_type": "stream",
     "text": [
      "5 categorical features:\n",
      "['Smoking', 'Alcohol', 'Internet usage', 'Gender', 'Education']\n",
      "\n",
      " 30 numerical features:\n",
      "['Economy Management', 'Biology', 'Medicine', 'Countryside, outdoors', 'Dancing', 'Passive sport', 'Active sport', 'Gardening', 'Celebrities', 'Shopping', 'Science and technology', 'Adrenaline sports', 'Healthy eating', 'Hypochondria', 'Eating to survive', 'Health', 'Appearence and gestures', 'Happiness in life', 'Energy levels', 'Personality', 'Finances', 'Shopping centres', 'Branded clothing', 'Entertainment spending', 'Spending on looks', 'Spending on gadgets', 'Age', 'Height', 'Weight', 'Number of siblings']\n"
     ]
    }
   ],
   "source": [
    "# Separate categorical features and numerical features for data cleaning\n",
    "categorical_features = [f for f in features if df_train[f].dtype == 'object']\n",
    "print(len(categorical_features), 'categorical features:')\n",
    "print(categorical_features)\n",
    "numerical_features   = [f for f in features if df_train[f].dtype in ['int64', 'float64']]\n",
    "print('\\n', len(numerical_features), 'numerical features:')\n",
    "print(numerical_features)"
   ]
  },
  {
   "cell_type": "markdown",
   "metadata": {
    "colab_type": "text",
    "id": "sRSCI9HAxuHs"
   },
   "source": [
    "#### 2.1. Clean and Process Categorical Features"
   ]
  },
  {
   "cell_type": "code",
   "execution_count": 50,
   "metadata": {
    "colab": {
     "base_uri": "https://localhost:8080/",
     "height": 1000
    },
    "colab_type": "code",
    "id": "Drhei38gdYd5",
    "outputId": "673cc1f7-3eb8-489d-b6ef-e0ff9fc35c65"
   },
   "outputs": [
    {
     "name": "stdout",
     "output_type": "stream",
     "text": [
      "\n",
      "* * * * * * * * * * * * * * * * * * * * \n",
      "tried smoking     413\n",
      "never smoked      200\n",
      "current smoker    182\n",
      "former smoker     169\n",
      "NaN                 6\n",
      "Name: Smoking, dtype: int64\n",
      "\n",
      "* * * * * * * * * * * * * * * * * * * * \n",
      "social drinker    636\n",
      "drink a lot       212\n",
      "never             118\n",
      "NaN                 4\n",
      "Name: Alcohol, dtype: int64\n",
      "\n",
      "* * * * * * * * * * * * * * * * * * * * \n",
      "few hours a day            714\n",
      "less than an hour a day    134\n",
      "most of the day            119\n",
      "no time at all               3\n",
      "Name: Internet usage, dtype: int64\n",
      "\n",
      "* * * * * * * * * * * * * * * * * * * * \n",
      "female    571\n",
      "male      393\n",
      "NaN         6\n",
      "Name: Gender, dtype: int64\n",
      "\n",
      "* * * * * * * * * * * * * * * * * * * * \n",
      "secondary school                    540\n",
      "college/bachelor degree             204\n",
      "primary school                       78\n",
      "masters degree                       65\n",
      "secondary schools                    56\n",
      "MS                                   12\n",
      "currently a primary school pupil     10\n",
      "doctorate degree                      4\n",
      "NaN                                   1\n",
      "Name: Education, dtype: int64\n",
      "\n",
      "* * * * * * * * * * * * * * * * * * * * * * * * * * * * * * \n",
      "\n",
      "* * * * * * * * * * * * * * * * * * * * \n",
      "tried smoking     17\n",
      "never smoked       8\n",
      "current smoker     7\n",
      "former smoker      6\n",
      "NaN                2\n",
      "Name: Smoking, dtype: int64\n",
      "\n",
      "* * * * * * * * * * * * * * * * * * * * \n",
      "social drinker    23\n",
      "drink a lot       10\n",
      "never              6\n",
      "NaN                1\n",
      "Name: Alcohol, dtype: int64\n",
      "\n",
      "* * * * * * * * * * * * * * * * * * * * \n",
      "few hours a day            30\n",
      "less than an hour a day     5\n",
      "most of the day             5\n",
      "Name: Internet usage, dtype: int64\n",
      "\n",
      "* * * * * * * * * * * * * * * * * * * * \n",
      "female    22\n",
      "male      18\n",
      "Name: Gender, dtype: int64\n",
      "\n",
      "* * * * * * * * * * * * * * * * * * * * \n",
      "secondary school           25\n",
      "college/bachelor degree     8\n",
      "masters degree              4\n",
      "primary school              2\n",
      "doctorate degree            1\n",
      "Name: Education, dtype: int64\n"
     ]
    }
   ],
   "source": [
    "# Check for number of NaN values in each of features of \n",
    "    # Training dataframe\n",
    "for f in categorical_features:\n",
    "  print('\\n' + '* ' * 20)\n",
    "  print(df_train[f].value_counts(dropna=False))\n",
    "    \n",
    "print('\\n' + '* ' * 30)\n",
    "    # Submission dataframe\n",
    "for f in categorical_features:\n",
    "  print('\\n' + '* ' * 20)\n",
    "  print(df_pred_[f].value_counts(dropna=False))"
   ]
  },
  {
   "cell_type": "code",
   "execution_count": 51,
   "metadata": {
    "colab": {},
    "colab_type": "code",
    "id": "WqBkrKJjhgnl"
   },
   "outputs": [],
   "source": [
    "# Fill missing data with the most frequent value in each features on:\n",
    "for f in categorical_features:\n",
    "  # Training set\n",
    "  c = df_train[f].value_counts()\n",
    "  df_train[f].fillna(c[c == c.iloc[0]].index.to_list()[0], inplace=True)\n",
    "\n",
    "  # Submission set\n",
    "  d = df_pred_[f].value_counts()\n",
    "  df_pred_[f].fillna(d[d == d.iloc[0]].index.to_list()[0], inplace=True)"
   ]
  },
  {
   "cell_type": "code",
   "execution_count": 52,
   "metadata": {
    "colab": {
     "base_uri": "https://localhost:8080/",
     "height": 1000
    },
    "colab_type": "code",
    "id": "XYOtoTXOA3YA",
    "outputId": "369b6b34-6c58-4059-90c7-26e4aa056275"
   },
   "outputs": [
    {
     "name": "stdout",
     "output_type": "stream",
     "text": [
      "\n",
      "* * * * * * * * * * * * * * * * * * * * \n",
      "tried smoking     419\n",
      "never smoked      200\n",
      "current smoker    182\n",
      "former smoker     169\n",
      "Name: Smoking, dtype: int64\n",
      "\n",
      "* * * * * * * * * * * * * * * * * * * * \n",
      "social drinker    640\n",
      "drink a lot       212\n",
      "never             118\n",
      "Name: Alcohol, dtype: int64\n",
      "\n",
      "* * * * * * * * * * * * * * * * * * * * \n",
      "few hours a day            714\n",
      "less than an hour a day    134\n",
      "most of the day            119\n",
      "no time at all               3\n",
      "Name: Internet usage, dtype: int64\n",
      "\n",
      "* * * * * * * * * * * * * * * * * * * * \n",
      "female    577\n",
      "male      393\n",
      "Name: Gender, dtype: int64\n",
      "\n",
      "* * * * * * * * * * * * * * * * * * * * \n",
      "secondary school                    541\n",
      "college/bachelor degree             204\n",
      "primary school                       78\n",
      "masters degree                       65\n",
      "secondary schools                    56\n",
      "MS                                   12\n",
      "currently a primary school pupil     10\n",
      "doctorate degree                      4\n",
      "Name: Education, dtype: int64\n",
      "\n",
      "* * * * * * * * * * * * * * * * * * * * * * * * * * * * * * \n",
      "\n",
      "* * * * * * * * * * * * * * * * * * * * \n",
      "tried smoking     19\n",
      "never smoked       8\n",
      "current smoker     7\n",
      "former smoker      6\n",
      "Name: Smoking, dtype: int64\n",
      "\n",
      "* * * * * * * * * * * * * * * * * * * * \n",
      "social drinker    24\n",
      "drink a lot       10\n",
      "never              6\n",
      "Name: Alcohol, dtype: int64\n",
      "\n",
      "* * * * * * * * * * * * * * * * * * * * \n",
      "few hours a day            30\n",
      "less than an hour a day     5\n",
      "most of the day             5\n",
      "Name: Internet usage, dtype: int64\n",
      "\n",
      "* * * * * * * * * * * * * * * * * * * * \n",
      "female    22\n",
      "male      18\n",
      "Name: Gender, dtype: int64\n",
      "\n",
      "* * * * * * * * * * * * * * * * * * * * \n",
      "secondary school           25\n",
      "college/bachelor degree     8\n",
      "masters degree              4\n",
      "primary school              2\n",
      "doctorate degree            1\n",
      "Name: Education, dtype: int64\n"
     ]
    }
   ],
   "source": [
    "# Recount values and check for missing values in each features on\n",
    "    # Training set\n",
    "for f in categorical_features:\n",
    "  print('\\n' + '* ' * 20)\n",
    "  print(df_train[f].value_counts(dropna=False))\n",
    "\n",
    "    # Submission set\n",
    "print('\\n' + '* ' * 30)\n",
    "for f in categorical_features:\n",
    "  print('\\n' + '* ' * 20)\n",
    "  print(df_pred_[f].value_counts(dropna=False))"
   ]
  },
  {
   "cell_type": "code",
   "execution_count": 53,
   "metadata": {
    "colab": {},
    "colab_type": "code",
    "id": "UAPr92u3j-44"
   },
   "outputs": [],
   "source": [
    "# Rank the categorical values in feature 'Smoking' then decode those values\n",
    "smoke = ['never smoked', 'tried smoking', 'former smoker', 'current smoker']\n",
    "f = lambda x: smoke.index(x) + 1\n",
    "\n",
    "df_train['Smoking'] = df_train['Smoking'].apply(f)\n",
    "df_pred_['Smoking'] = df_pred_['Smoking'].apply(f)"
   ]
  },
  {
   "cell_type": "code",
   "execution_count": 54,
   "metadata": {
    "colab": {},
    "colab_type": "code",
    "id": "_wZWr7lCmzBg"
   },
   "outputs": [],
   "source": [
    "# Rank the categorical values in feature 'Alcohol' then decode those values\n",
    "drink = ['never', 'social drinker', 'drink a lot']\n",
    "f = lambda x: drink.index(x) + 1\n",
    "\n",
    "df_train['Alcohol'] = df_train['Alcohol'].apply(f)\n",
    "df_pred_['Alcohol'] = df_pred_['Alcohol'].apply(f)"
   ]
  },
  {
   "cell_type": "code",
   "execution_count": 55,
   "metadata": {
    "colab": {},
    "colab_type": "code",
    "id": "1pp2WN2H6BcM"
   },
   "outputs": [],
   "source": [
    "# Rank the categorical values in feature 'Internet usage' then decode those values\n",
    "internet = ['no time at all', 'less than an hour a day', \n",
    "            'few hours a day', 'most of the day']\n",
    "f = lambda x: internet.index(x) + 1\n",
    "\n",
    "df_train['Internet usage'] = df_train['Internet usage'].apply(f)\n",
    "df_pred_['Internet usage'] = df_pred_['Internet usage'].apply(f)"
   ]
  },
  {
   "cell_type": "code",
   "execution_count": 56,
   "metadata": {
    "colab": {},
    "colab_type": "code",
    "id": "Jkk-3b4a69H1"
   },
   "outputs": [],
   "source": [
    "# Partition the values in feature 'Education' in 2 groups: \n",
    "# college for 1 and non-college degrees for 0\n",
    "degrees = ['college/bachelor degree', 'masters degree', 'MS', 'doctorate degree']\n",
    "f = lambda e: 1 if e in degrees else 0\n",
    "\n",
    "df_train['Education'] = df_train['Education'].apply(f)\n",
    "df_pred_['Education'] = df_pred_['Education'].apply(f)"
   ]
  },
  {
   "cell_type": "code",
   "execution_count": 57,
   "metadata": {
    "colab": {},
    "colab_type": "code",
    "id": "MkYHNnfzCx_X"
   },
   "outputs": [],
   "source": [
    "# Assign value of feature 'Gender' 0 for female and 1 for male\n",
    "f = lambda x: 0 if x == 'female' else 1\n",
    "\n",
    "df_train['Gender'] = df_train['Gender'].apply(f)\n",
    "df_pred_['Gender'] = df_pred_['Gender'].apply(f)"
   ]
  },
  {
   "cell_type": "code",
   "execution_count": 58,
   "metadata": {
    "colab": {
     "base_uri": "https://localhost:8080/",
     "height": 1000
    },
    "colab_type": "code",
    "id": "ZjQFMuHx9MyW",
    "outputId": "844dc1eb-1d6e-4fb7-db4c-013acc471a79"
   },
   "outputs": [
    {
     "name": "stdout",
     "output_type": "stream",
     "text": [
      "\n",
      "* * * * * * * * * * * * * * * * * * * * \n",
      "2    419\n",
      "1    200\n",
      "4    182\n",
      "3    169\n",
      "Name: Smoking, dtype: int64\n",
      "\n",
      "* * * * * * * * * * * * * * * * * * * * \n",
      "2    640\n",
      "3    212\n",
      "1    118\n",
      "Name: Alcohol, dtype: int64\n",
      "\n",
      "* * * * * * * * * * * * * * * * * * * * \n",
      "3    714\n",
      "2    134\n",
      "4    119\n",
      "1      3\n",
      "Name: Internet usage, dtype: int64\n",
      "\n",
      "* * * * * * * * * * * * * * * * * * * * \n",
      "0    577\n",
      "1    393\n",
      "Name: Gender, dtype: int64\n",
      "\n",
      "* * * * * * * * * * * * * * * * * * * * \n",
      "0    685\n",
      "1    285\n",
      "Name: Education, dtype: int64\n",
      "\n",
      "* * * * * * * * * * * * * * * * * * * * * * * * * * * * * * \n",
      "\n",
      "* * * * * * * * * * * * * * * * * * * * \n",
      "2    19\n",
      "1     8\n",
      "4     7\n",
      "3     6\n",
      "Name: Smoking, dtype: int64\n",
      "\n",
      "* * * * * * * * * * * * * * * * * * * * \n",
      "2    24\n",
      "3    10\n",
      "1     6\n",
      "Name: Alcohol, dtype: int64\n",
      "\n",
      "* * * * * * * * * * * * * * * * * * * * \n",
      "3    30\n",
      "4     5\n",
      "2     5\n",
      "Name: Internet usage, dtype: int64\n",
      "\n",
      "* * * * * * * * * * * * * * * * * * * * \n",
      "0    22\n",
      "1    18\n",
      "Name: Gender, dtype: int64\n",
      "\n",
      "* * * * * * * * * * * * * * * * * * * * \n",
      "0    27\n",
      "1    13\n",
      "Name: Education, dtype: int64\n"
     ]
    }
   ],
   "source": [
    "# Recount values / check for NaN in categorical features on:\n",
    "    # Training set\n",
    "for f in categorical_features:\n",
    "  print('\\n' + '* ' * 20)\n",
    "  print(df_train[f].value_counts(dropna=False))\n",
    "\n",
    "print('\\n' + '* ' * 30)\n",
    "    \n",
    "    # Submission set\n",
    "for f in categorical_features:\n",
    "  print('\\n' + '* ' * 20)\n",
    "  print(df_pred_[f].value_counts(dropna=False))"
   ]
  },
  {
   "cell_type": "markdown",
   "metadata": {
    "colab_type": "text",
    "id": "mu5U8GGvx1pn"
   },
   "source": [
    "#### 2.2. Clean and Process Numerical Features"
   ]
  },
  {
   "cell_type": "code",
   "execution_count": 59,
   "metadata": {
    "colab": {
     "base_uri": "https://localhost:8080/",
     "height": 998
    },
    "colab_type": "code",
    "id": "FToEaCm0DviR",
    "outputId": "00a98333-97b4-42b9-a988-a1e16b7980e9"
   },
   "outputs": [
    {
     "data": {
      "image/png": "[encoded data removed]",
      "text/plain": [
       "<Figure size 864x576 with 4 Axes>"
      ]
     },
     "metadata": {
      "needs_background": "light"
     },
     "output_type": "display_data"
    },
    {
     "data": {
      "text/plain": [
       "<function matplotlib.pyplot.show(*args, **kw)>"
      ]
     },
     "execution_count": 59,
     "metadata": {},
     "output_type": "execute_result"
    },
    {
     "data": {
      "image/png": "[encoded data removed]",
      "text/plain": [
       "<Figure size 864x576 with 4 Axes>"
      ]
     },
     "metadata": {
      "needs_background": "light"
     },
     "output_type": "display_data"
    }
   ],
   "source": [
    "# Inspect and compare the distribution of continuous numerical features in:\n",
    "c = ['Height', 'Weight', 'Age']\n",
    "\n",
    "# Training set\n",
    "df_train[c].hist(figsize=(12,8))\n",
    "plt.show()\n",
    "\n",
    "# Submission set\n",
    "df_pred_[c].hist(figsize=(12,8))\n",
    "plt.show"
   ]
  },
  {
   "cell_type": "code",
   "execution_count": 60,
   "metadata": {
    "colab": {},
    "colab_type": "code",
    "id": "zMIQND-tQpea",
    "outputId": "75218ec0-82f8-4cdd-a70d-7213646ad313"
   },
   "outputs": [
    {
     "data": {
      "image/png": "[encoded data removed]",
      "text/plain": [
       "<Figure size 864x432 with 1 Axes>"
      ]
     },
     "metadata": {
      "needs_background": "light"
     },
     "output_type": "display_data"
    },
    {
     "data": {
      "text/plain": [
       "<function matplotlib.pyplot.show(*args, **kw)>"
      ]
     },
     "execution_count": 60,
     "metadata": {},
     "output_type": "execute_result"
    },
    {
     "data": {
      "image/png": "[encoded data removed]",
      "text/plain": [
       "<Figure size 864x432 with 1 Axes>"
      ]
     },
     "metadata": {
      "needs_background": "light"
     },
     "output_type": "display_data"
    }
   ],
   "source": [
    "# Plot boxplot to detect outliners of numerical features on:\n",
    "# Training set\n",
    "df_train[c].boxplot(figsize=(12,6))\n",
    "plt.show()\n",
    "\n",
    "# Submission set\n",
    "df_pred_[c].boxplot(figsize=(12,6))\n",
    "plt.show"
   ]
  },
  {
   "cell_type": "markdown",
   "metadata": {
    "colab_type": "text",
    "id": "SU59kA54Qpec"
   },
   "source": [
    "##### The Height's range in Submission set is  (125cm,  200cm)\n",
    "##### The Weight's range in Submission set is  not higher than 100kg\n",
    "##### Hence anything in the Training outside these ranges are to be removed."
   ]
  },
  {
   "cell_type": "code",
   "execution_count": 61,
   "metadata": {
    "colab": {},
    "colab_type": "code",
    "id": "UI1y1BLfQpec",
    "outputId": "af28c1a6-ab28-40f7-faa3-b8133cbf2b10"
   },
   "outputs": [
    {
     "name": "stdout",
     "output_type": "stream",
     "text": [
      "     Height  Weight   Age\n",
      "523   203.0    80.0  21.0\n",
      "764   203.0    89.0  18.0\n",
      "     Height  Weight   Age\n",
      "646    62.0    55.0  20.0\n",
      "     Height  Weight   Age\n",
      "283   184.0   120.0  21.0\n",
      "683   183.0   111.0  29.0\n",
      "758   185.0   120.0  24.0\n",
      "761   189.0   113.0  27.0\n",
      "823   190.0   125.0  20.0\n",
      "849     NaN   165.0  23.0\n",
      "933   175.0   120.0  20.0\n",
      "952   200.0   150.0  30.0\n",
      "\n",
      "Rows with following indices needs to be removed:\n",
      "[523, 764, 646, 283, 683, 758, 761, 823, 849, 933, 952]\n"
     ]
    }
   ],
   "source": [
    "removed_idx = []\n",
    "# over_height defined by Height of anyone > 200cm\n",
    "over_height = df_train[c][df_train.Height > 200]\n",
    "removed_idx.extend(over_height.index.to_list())\n",
    "print(over_height)\n",
    "\n",
    "# under_height defined by Height of anyone < 125cm\n",
    "under_height = df_train[c][df_train.Height < 125]\n",
    "removed_idx.extend(under_height.index.to_list())\n",
    "print(under_height)\n",
    "\n",
    "# over_weight defined by Weight of anyone > 110kg\n",
    "over_weight = df_train[c][df_train.Weight > 110]\n",
    "removed_idx.extend(over_weight.index.to_list())\n",
    "print(over_weight)\n",
    "\n",
    "print('\\nRows with following indices needs to be removed:')\n",
    "print(removed_idx)"
   ]
  },
  {
   "cell_type": "code",
   "execution_count": 62,
   "metadata": {
    "colab": {},
    "colab_type": "code",
    "id": "a96zjiYDQpee"
   },
   "outputs": [],
   "source": [
    "# Remove rows with outliners of Height and Weight in Training set\n",
    "df_train.drop(index=removed_idx, inplace=True)\n",
    "df_train.reset_index(drop=True, inplace=True)"
   ]
  },
  {
   "cell_type": "code",
   "execution_count": 63,
   "metadata": {
    "colab": {},
    "colab_type": "code",
    "id": "DHoL3BiVQpeg",
    "outputId": "bdc14af2-0d7a-4e31-fb3e-a8007f049fe4"
   },
   "outputs": [
    {
     "data": {
      "image/png": "[encoded data removed]",
      "text/plain": [
       "<Figure size 864x432 with 1 Axes>"
      ]
     },
     "metadata": {
      "needs_background": "light"
     },
     "output_type": "display_data"
    },
    {
     "data": {
      "text/plain": [
       "<function matplotlib.pyplot.show(*args, **kw)>"
      ]
     },
     "execution_count": 63,
     "metadata": {},
     "output_type": "execute_result"
    },
    {
     "data": {
      "image/png": "[encoded data removed]",
      "text/plain": [
       "<Figure size 864x432 with 1 Axes>"
      ]
     },
     "metadata": {
      "needs_background": "light"
     },
     "output_type": "display_data"
    }
   ],
   "source": [
    "# Plot boxplot to detect outliners of numerical features on:\n",
    "# Training set\n",
    "df_train[c].boxplot(figsize=(12,6))\n",
    "plt.show()\n",
    "\n",
    "# Submission set\n",
    "df_pred_[c].boxplot(figsize=(12,6))\n",
    "plt.show"
   ]
  },
  {
   "cell_type": "code",
   "execution_count": 64,
   "metadata": {
    "colab": {},
    "colab_type": "code",
    "id": "YTEGlz9RH41Z"
   },
   "outputs": [],
   "source": [
    "# Fill in missing numerical values\n",
    "for f in c:\n",
    "  df_train[f] = df_train[f].fillna(df_train[f].median())\n",
    "  df_pred_[f] = df_pred_[f].fillna(df_pred_[f].median())"
   ]
  },
  {
   "cell_type": "code",
   "execution_count": 65,
   "metadata": {
    "colab": {
     "base_uri": "https://localhost:8080/",
     "height": 1000
    },
    "colab_type": "code",
    "id": "bzycj4pQD4kD",
    "outputId": "d8845466-dbca-4280-b24f-fbd1dade76bd"
   },
   "outputs": [
    {
     "name": "stdout",
     "output_type": "stream",
     "text": [
      "\n",
      "* * * * * * * * * * * * * * * * * * * * \n",
      "1.0    250\n",
      "2.0    227\n",
      "3.0    207\n",
      "4.0    154\n",
      "5.0    116\n",
      "NaN      5\n",
      "Name: Economy Management, dtype: int64\n",
      "\n",
      "* * * * * * * * * * * * * * * * * * * * \n",
      "2.0    262\n",
      "1.0    238\n",
      "3.0    191\n",
      "5.0    150\n",
      "4.0    113\n",
      "NaN      5\n",
      "Name: Biology, dtype: int64\n",
      "\n",
      "* * * * * * * * * * * * * * * * * * * * \n",
      "1.0    292\n",
      "2.0    235\n",
      "3.0    204\n",
      "5.0    142\n",
      "4.0     82\n",
      "NaN      4\n",
      "Name: Medicine, dtype: int64\n",
      "\n",
      "* * * * * * * * * * * * * * * * * * * * \n",
      "5.0    293\n",
      "4.0    286\n",
      "3.0    212\n",
      "2.0    102\n",
      "1.0     60\n",
      "NaN      6\n",
      "Name: Countryside, outdoors, dtype: int64\n",
      "\n",
      "* * * * * * * * * * * * * * * * * * * * \n",
      "1.0    359\n",
      "2.0    183\n",
      "3.0    167\n",
      "5.0    146\n",
      "4.0    102\n",
      "NaN      2\n",
      "Name: Dancing, dtype: int64\n",
      "\n",
      "* * * * * * * * * * * * * * * * * * * * \n",
      "5.0    295\n",
      "3.0    215\n",
      "4.0    171\n",
      "2.0    141\n",
      "1.0    122\n",
      "NaN     15\n",
      "Name: Passive sport, dtype: int64\n",
      "\n",
      "* * * * * * * * * * * * * * * * * * * * \n",
      "5.0    303\n",
      "3.0    186\n",
      "1.0    184\n",
      "4.0    164\n",
      "2.0    119\n",
      "NaN      3\n",
      "Name: Active sport, dtype: int64\n",
      "\n",
      "* * * * * * * * * * * * * * * * * * * * \n",
      "1.0    500\n",
      "2.0    213\n",
      "3.0    136\n",
      "4.0     55\n",
      "5.0     48\n",
      "NaN      7\n",
      "Name: Gardening, dtype: int64\n",
      "\n",
      "* * * * * * * * * * * * * * * * * * * * \n",
      "1.0    322\n",
      "2.0    224\n",
      "3.0    219\n",
      "4.0    121\n",
      "5.0     71\n",
      "NaN      2\n",
      "Name: Celebrities, dtype: int64\n",
      "\n",
      "* * * * * * * * * * * * * * * * * * * * \n",
      "3.0    239\n",
      "4.0    218\n",
      "5.0    215\n",
      "2.0    187\n",
      "1.0     98\n",
      "NaN      2\n",
      "Name: Shopping, dtype: int64\n",
      "\n",
      "* * * * * * * * * * * * * * * * * * * * \n",
      "3.0    266\n",
      "4.0    214\n",
      "5.0    190\n",
      "2.0    174\n",
      "1.0    109\n",
      "NaN      6\n",
      "Name: Science and technology, dtype: int64\n",
      "\n",
      "* * * * * * * * * * * * * * * * * * * * \n",
      "1.0    207\n",
      "3.0    206\n",
      "5.0    187\n",
      "2.0    180\n",
      "4.0    177\n",
      "NaN      2\n",
      "Name: Adrenaline sports, dtype: int64\n",
      "\n",
      "* * * * * * * * * * * * * * * * * * * * \n",
      "2    417\n",
      "1    196\n",
      "4    178\n",
      "3    168\n",
      "Name: Smoking, dtype: int64\n",
      "\n",
      "* * * * * * * * * * * * * * * * * * * * \n",
      "2    634\n",
      "3    210\n",
      "1    115\n",
      "Name: Alcohol, dtype: int64\n",
      "\n",
      "* * * * * * * * * * * * * * * * * * * * \n",
      "3.0    483\n",
      "4.0    228\n",
      "2.0    128\n",
      "1.0     76\n",
      "5.0     42\n",
      "NaN      2\n",
      "Name: Healthy eating, dtype: int64\n",
      "\n",
      "* * * * * * * * * * * * * * * * * * * * \n",
      "1.0    487\n",
      "2.0    203\n",
      "3.0    151\n",
      "4.0     74\n",
      "5.0     40\n",
      "NaN      4\n",
      "Name: Hypochondria, dtype: int64\n",
      "\n",
      "* * * * * * * * * * * * * * * * * * * * \n",
      "1    337\n",
      "2    280\n",
      "3    183\n",
      "4    102\n",
      "5     57\n",
      "Name: Eating to survive, dtype: int64\n",
      "\n",
      "* * * * * * * * * * * * * * * * * * * * \n",
      "3.0    379\n",
      "4.0    255\n",
      "2.0    130\n",
      "5.0    125\n",
      "1.0     69\n",
      "NaN      1\n",
      "Name: Health, dtype: int64\n",
      "\n",
      "* * * * * * * * * * * * * * * * * * * * \n",
      "4.0    361\n",
      "3.0    331\n",
      "5.0    165\n",
      "2.0     78\n",
      "1.0     21\n",
      "NaN      3\n",
      "Name: Appearence and gestures, dtype: int64\n",
      "\n",
      "* * * * * * * * * * * * * * * * * * * * \n",
      "4.0    484\n",
      "3.0    272\n",
      "5.0    131\n",
      "2.0     56\n",
      "1.0     12\n",
      "NaN      4\n",
      "Name: Happiness in life, dtype: int64\n",
      "\n",
      "* * * * * * * * * * * * * * * * * * * * \n",
      "4.0    354\n",
      "3.0    294\n",
      "5.0    192\n",
      "2.0     84\n",
      "1.0     30\n",
      "NaN      5\n",
      "Name: Energy levels, dtype: int64\n",
      "\n",
      "* * * * * * * * * * * * * * * * * * * * \n",
      "3.0    594\n",
      "4.0    284\n",
      "2.0     40\n",
      "5.0     28\n",
      "1.0      9\n",
      "NaN      4\n",
      "Name: Personality, dtype: int64\n",
      "\n",
      "* * * * * * * * * * * * * * * * * * * * \n",
      "3    706\n",
      "2    133\n",
      "4    117\n",
      "1      3\n",
      "Name: Internet usage, dtype: int64\n",
      "\n",
      "* * * * * * * * * * * * * * * * * * * * \n",
      "3.0    338\n",
      "4.0    238\n",
      "2.0    165\n",
      "1.0    123\n",
      "5.0     92\n",
      "NaN      3\n",
      "Name: Finances, dtype: int64\n",
      "\n",
      "* * * * * * * * * * * * * * * * * * * * \n",
      "4.0    231\n",
      "3.0    230\n",
      "5.0    207\n",
      "2.0    166\n",
      "1.0    123\n",
      "NaN      2\n",
      "Name: Shopping centres, dtype: int64\n",
      "\n",
      "* * * * * * * * * * * * * * * * * * * * \n",
      "3.0    270\n",
      "4.0    226\n",
      "1.0    161\n",
      "5.0    151\n",
      "2.0    149\n",
      "NaN      2\n",
      "Name: Branded clothing, dtype: int64\n",
      "\n",
      "* * * * * * * * * * * * * * * * * * * * \n",
      "3.0    297\n",
      "4.0    234\n",
      "2.0    181\n",
      "5.0    158\n",
      "1.0     86\n",
      "NaN      3\n",
      "Name: Entertainment spending, dtype: int64\n",
      "\n",
      "* * * * * * * * * * * * * * * * * * * * \n",
      "3.0    285\n",
      "4.0    236\n",
      "2.0    192\n",
      "5.0    137\n",
      "1.0    107\n",
      "NaN      2\n",
      "Name: Spending on looks, dtype: int64\n",
      "\n",
      "* * * * * * * * * * * * * * * * * * * * \n",
      "2    260\n",
      "3    245\n",
      "4    166\n",
      "1    155\n",
      "5    133\n",
      "Name: Spending on gadgets, dtype: int64\n",
      "\n",
      "* * * * * * * * * * * * * * * * * * * * \n",
      "1.0     505\n",
      "2.0     187\n",
      "0.0     158\n",
      "3.0      72\n",
      "4.0      18\n",
      "5.0       9\n",
      "NaN       6\n",
      "6.0       3\n",
      "10.0      1\n",
      "Name: Number of siblings, dtype: int64\n",
      "\n",
      "* * * * * * * * * * * * * * * * * * * * \n",
      "0    573\n",
      "1    386\n",
      "Name: Gender, dtype: int64\n",
      "\n",
      "* * * * * * * * * * * * * * * * * * * * \n",
      "0    678\n",
      "1    281\n",
      "Name: Education, dtype: int64\n",
      "\n",
      "* * * * * * * * * * * * * * * * * * * * * * * * * * * * * * \n",
      "\n",
      "* * * * * * * * * * * * * * * * * * * * \n",
      "2.0    14\n",
      "5.0     8\n",
      "1.0     8\n",
      "3.0     7\n",
      "4.0     3\n",
      "Name: Economy Management, dtype: int64\n",
      "\n",
      "* * * * * * * * * * * * * * * * * * * * \n",
      "2.0    11\n",
      "1.0     9\n",
      "5.0     8\n",
      "4.0     6\n",
      "3.0     5\n",
      "NaN     1\n",
      "Name: Biology, dtype: int64\n",
      "\n",
      "* * * * * * * * * * * * * * * * * * * * \n",
      "2.0    13\n",
      "1.0    10\n",
      "3.0     9\n",
      "4.0     4\n",
      "5.0     3\n",
      "NaN     1\n",
      "Name: Medicine, dtype: int64\n",
      "\n",
      "* * * * * * * * * * * * * * * * * * * * \n",
      "5.0    16\n",
      "4.0    10\n",
      "2.0     7\n",
      "3.0     5\n",
      "NaN     1\n",
      "1.0     1\n",
      "Name: Countryside, outdoors, dtype: int64\n",
      "\n",
      "* * * * * * * * * * * * * * * * * * * * \n",
      "1.0    12\n",
      "3.0    11\n",
      "2.0     9\n",
      "5.0     4\n",
      "4.0     3\n",
      "NaN     1\n",
      "Name: Dancing, dtype: int64\n",
      "\n",
      "* * * * * * * * * * * * * * * * * * * * \n",
      "5.0    12\n",
      "1.0    12\n",
      "4.0     8\n",
      "2.0     4\n",
      "3.0     4\n",
      "Name: Passive sport, dtype: int64\n",
      "\n",
      "* * * * * * * * * * * * * * * * * * * * \n",
      "5.0    12\n",
      "4.0    10\n",
      "1.0    10\n",
      "3.0     6\n",
      "NaN     1\n",
      "2.0     1\n",
      "Name: Active sport, dtype: int64\n",
      "\n",
      "* * * * * * * * * * * * * * * * * * * * \n",
      "1.0    17\n",
      "2.0     8\n",
      "3.0     8\n",
      "5.0     5\n",
      "4.0     2\n",
      "Name: Gardening, dtype: int64\n",
      "\n",
      "* * * * * * * * * * * * * * * * * * * * \n",
      "1.0    19\n",
      "2.0     7\n",
      "3.0     7\n",
      "4.0     5\n",
      "5.0     2\n",
      "Name: Celebrities, dtype: int64\n",
      "\n",
      "* * * * * * * * * * * * * * * * * * * * \n",
      "2.0    10\n",
      "4.0    10\n",
      "5.0     9\n",
      "3.0     8\n",
      "1.0     3\n",
      "Name: Shopping, dtype: int64\n",
      "\n",
      "* * * * * * * * * * * * * * * * * * * * \n",
      "5.0    16\n",
      "4.0     7\n",
      "1.0     6\n",
      "3.0     6\n",
      "2.0     5\n",
      "Name: Science and technology, dtype: int64\n",
      "\n",
      "* * * * * * * * * * * * * * * * * * * * \n",
      "3.0    11\n",
      "1.0    10\n",
      "5.0     8\n",
      "2.0     6\n",
      "4.0     4\n",
      "NaN     1\n",
      "Name: Adrenaline sports, dtype: int64\n",
      "\n",
      "* * * * * * * * * * * * * * * * * * * * \n",
      "2    19\n",
      "1     8\n",
      "4     7\n",
      "3     6\n",
      "Name: Smoking, dtype: int64\n",
      "\n",
      "* * * * * * * * * * * * * * * * * * * * \n",
      "2    24\n",
      "3    10\n",
      "1     6\n",
      "Name: Alcohol, dtype: int64\n",
      "\n",
      "* * * * * * * * * * * * * * * * * * * * \n",
      "3.0    17\n",
      "4.0    10\n",
      "2.0     5\n",
      "5.0     4\n",
      "1.0     3\n",
      "NaN     1\n",
      "Name: Healthy eating, dtype: int64\n",
      "\n",
      "* * * * * * * * * * * * * * * * * * * * \n",
      "1.0    27\n",
      "2.0     6\n",
      "3.0     4\n",
      "4.0     2\n",
      "5.0     1\n",
      "Name: Hypochondria, dtype: int64\n",
      "\n",
      "* * * * * * * * * * * * * * * * * * * * \n",
      "1    17\n",
      "3     7\n",
      "4     6\n",
      "2     6\n",
      "5     4\n",
      "Name: Eating to survive, dtype: int64\n",
      "\n",
      "* * * * * * * * * * * * * * * * * * * * \n",
      "3.0    15\n",
      "5.0     9\n",
      "4.0     9\n",
      "2.0     4\n",
      "1.0     3\n",
      "Name: Health, dtype: int64\n",
      "\n",
      "* * * * * * * * * * * * * * * * * * * * \n",
      "4.0    14\n",
      "5.0    11\n",
      "3.0     9\n",
      "2.0     6\n",
      "Name: Appearence and gestures, dtype: int64\n",
      "\n",
      "* * * * * * * * * * * * * * * * * * * * \n",
      "4.0    20\n",
      "5.0    10\n",
      "3.0     8\n",
      "2.0     2\n",
      "Name: Happiness in life, dtype: int64\n",
      "\n",
      "* * * * * * * * * * * * * * * * * * * * \n",
      "5.0    15\n",
      "4.0    15\n",
      "3.0     8\n",
      "2.0     1\n",
      "1.0     1\n",
      "Name: Energy levels, dtype: int64\n",
      "\n",
      "* * * * * * * * * * * * * * * * * * * * \n",
      "3.0    27\n",
      "4.0     9\n",
      "5.0     2\n",
      "2.0     2\n",
      "Name: Personality, dtype: int64\n",
      "\n",
      "* * * * * * * * * * * * * * * * * * * * \n",
      "3    30\n",
      "4     5\n",
      "2     5\n",
      "Name: Internet usage, dtype: int64\n",
      "\n",
      "* * * * * * * * * * * * * * * * * * * * \n",
      "3.0    17\n",
      "4.0     9\n",
      "2.0     7\n",
      "5.0     6\n",
      "1.0     1\n",
      "Name: Finances, dtype: int64\n",
      "\n",
      "* * * * * * * * * * * * * * * * * * * * \n",
      "5.0    11\n",
      "3.0    10\n",
      "1.0     8\n",
      "2.0     8\n",
      "4.0     3\n",
      "Name: Shopping centres, dtype: int64\n",
      "\n",
      "* * * * * * * * * * * * * * * * * * * * \n",
      "4.0    12\n",
      "1.0    11\n",
      "3.0     9\n",
      "5.0     5\n",
      "2.0     3\n",
      "Name: Branded clothing, dtype: int64\n",
      "\n",
      "* * * * * * * * * * * * * * * * * * * * \n",
      "3.0    12\n",
      "4.0     9\n",
      "2.0     9\n",
      "5.0     6\n",
      "1.0     4\n",
      "Name: Entertainment spending, dtype: int64\n",
      "\n",
      "* * * * * * * * * * * * * * * * * * * * \n",
      "3.0    13\n",
      "2.0    12\n",
      "4.0     9\n",
      "5.0     4\n",
      "1.0     1\n",
      "NaN     1\n",
      "Name: Spending on looks, dtype: int64\n",
      "\n",
      "* * * * * * * * * * * * * * * * * * * * \n",
      "3    12\n",
      "5     9\n",
      "1     9\n",
      "4     6\n",
      "2     4\n",
      "Name: Spending on gadgets, dtype: int64\n",
      "\n",
      "* * * * * * * * * * * * * * * * * * * * \n",
      "1.0    26\n",
      "2.0    10\n",
      "0.0     4\n",
      "Name: Number of siblings, dtype: int64\n",
      "\n",
      "* * * * * * * * * * * * * * * * * * * * \n",
      "0    22\n",
      "1    18\n",
      "Name: Gender, dtype: int64\n",
      "\n",
      "* * * * * * * * * * * * * * * * * * * * \n",
      "0    27\n",
      "1    13\n",
      "Name: Education, dtype: int64\n"
     ]
    }
   ],
   "source": [
    "# Count values of the discrete numerical features and check for missing values:\n",
    "d = [f for f in features if f not in c]\n",
    "\n",
    "# In Training set\n",
    "for f in d:\n",
    "  print('\\n' + '* ' * 20)\n",
    "  print(df_train[f].value_counts(dropna=False))\n",
    "\n",
    "print('\\n' + '* ' * 30)\n",
    "# In Submission set\n",
    "for f in d:\n",
    "  print('\\n' + '* ' * 20)\n",
    "  print(df_pred_[f].value_counts(dropna=False))"
   ]
  },
  {
   "cell_type": "code",
   "execution_count": 66,
   "metadata": {
    "colab": {
     "base_uri": "https://localhost:8080/",
     "height": 1000
    },
    "colab_type": "code",
    "id": "jn0scCBBGrdB",
    "outputId": "76b2e203-fa58-4e71-9d6a-08f3d118d9a2"
   },
   "outputs": [
    {
     "name": "stdout",
     "output_type": "stream",
     "text": [
      "Economy Management         0\n",
      "Biology                    0\n",
      "Medicine                   0\n",
      "Countryside, outdoors      0\n",
      "Dancing                    0\n",
      "Passive sport              0\n",
      "Active sport               0\n",
      "Gardening                  0\n",
      "Celebrities                0\n",
      "Shopping                   0\n",
      "Science and technology     0\n",
      "Adrenaline sports          0\n",
      "Smoking                    0\n",
      "Alcohol                    0\n",
      "Healthy eating             0\n",
      "Hypochondria               0\n",
      "Eating to survive          0\n",
      "Health                     0\n",
      "Appearence and gestures    0\n",
      "Happiness in life          0\n",
      "Energy levels              0\n",
      "Personality                0\n",
      "Internet usage             0\n",
      "Finances                   0\n",
      "Shopping centres           0\n",
      "Branded clothing           0\n",
      "Entertainment spending     0\n",
      "Spending on looks          0\n",
      "Spending on gadgets        0\n",
      "Age                        0\n",
      "Height                     0\n",
      "Weight                     0\n",
      "Number of siblings         0\n",
      "Gender                     0\n",
      "Education                  0\n",
      "dtype: int64\n",
      "\n",
      "* * * * * * * * * * * * * * * * * * * * \n",
      "Economy Management         0\n",
      "Biology                    0\n",
      "Medicine                   0\n",
      "Countryside, outdoors      0\n",
      "Dancing                    0\n",
      "Passive sport              0\n",
      "Active sport               0\n",
      "Gardening                  0\n",
      "Celebrities                0\n",
      "Shopping                   0\n",
      "Science and technology     0\n",
      "Adrenaline sports          0\n",
      "Smoking                    0\n",
      "Alcohol                    0\n",
      "Healthy eating             0\n",
      "Hypochondria               0\n",
      "Eating to survive          0\n",
      "Health                     0\n",
      "Appearence and gestures    0\n",
      "Happiness in life          0\n",
      "Energy levels              0\n",
      "Personality                0\n",
      "Internet usage             0\n",
      "Finances                   0\n",
      "Shopping centres           0\n",
      "Branded clothing           0\n",
      "Entertainment spending     0\n",
      "Spending on looks          0\n",
      "Spending on gadgets        0\n",
      "Age                        0\n",
      "Height                     0\n",
      "Weight                     0\n",
      "Number of siblings         0\n",
      "Gender                     0\n",
      "Education                  0\n",
      "dtype: int64\n"
     ]
    }
   ],
   "source": [
    "# Fill missing values in each numerical features with its median\n",
    "for f in d:\n",
    "  df_train[f] = df_train[f].fillna(df_train[f].median())\n",
    "  df_pred_[f] = df_pred_[f].fillna(df_pred_[f].median())\n",
    "\n",
    "# Double check for more missing values in both datasets\n",
    "print(df_train[features].isnull().sum())\n",
    "print('\\n' + '* ' * 20)\n",
    "print(df_pred_[features].isnull().sum())"
   ]
  },
  {
   "cell_type": "code",
   "execution_count": 67,
   "metadata": {
    "colab": {
     "base_uri": "https://localhost:8080/",
     "height": 611
    },
    "colab_type": "code",
    "id": "4SUBcy9HJLHY",
    "outputId": "5adb54f7-9076-4db1-92f8-3532337ac1a1"
   },
   "outputs": [
    {
     "data": {
      "image/png": "[encoded data removed]",
      "text/plain": [
       "<Figure size 864x576 with 1 Axes>"
      ]
     },
     "metadata": {
      "needs_background": "light"
     },
     "output_type": "display_data"
    },
    {
     "name": "stdout",
     "output_type": "stream",
     "text": [
      "4.0    307\n",
      "3.0    272\n",
      "5.0    213\n",
      "2.0    126\n",
      "1.0     39\n",
      "NaN      2\n",
      "Name: Spending on healthy eating, dtype: int64\n"
     ]
    }
   ],
   "source": [
    "# Check for missing values in the target\n",
    "y = df_train['Spending on healthy eating']\n",
    "s = y.value_counts(dropna=False)\n",
    "s.plot(kind='bar', figsize=(12,8))\n",
    "plt.show()\n",
    "print(s)"
   ]
  },
  {
   "cell_type": "code",
   "execution_count": 68,
   "metadata": {
    "colab": {},
    "colab_type": "code",
    "id": "fbe0xjtZQpeq"
   },
   "outputs": [],
   "source": [
    "removed_idx = df_train[y.isnull()].index.to_list()\n",
    "df_train.drop(index=removed_idx, inplace=True)\n",
    "df_train.reset_index(drop=True, inplace=True)"
   ]
  },
  {
   "cell_type": "code",
   "execution_count": 70,
   "metadata": {
    "colab": {},
    "colab_type": "code",
    "id": "d9YZ2baUUM68"
   },
   "outputs": [],
   "source": [
    "# Create a training set with selected features\n",
    "X, y = df_train[features], df_train['Spending on healthy eating']\n",
    "y = y.apply(lambda x: x - 2 if x > 2 else 0)\n",
    "X_pred_ = df_pred_[features]"
   ]
  },
  {
   "cell_type": "code",
   "execution_count": 71,
   "metadata": {
    "colab": {
     "base_uri": "https://localhost:8080/",
     "height": 34
    },
    "colab_type": "code",
    "id": "K3U7aWZ6TuNA",
    "outputId": "acc1a4a8-2d4b-4db9-a70e-36353718e61c"
   },
   "outputs": [
    {
     "name": "stdout",
     "output_type": "stream",
     "text": [
      "[ 6 10 11 14 16 17 25 26 27 28]\n"
     ]
    }
   ],
   "source": [
    "# Run a Chi-square test to find the top k features in the datasets\n",
    "from sklearn.feature_selection import SelectKBest, chi2\n",
    "ch2 = SelectKBest(chi2, k=10)\n",
    "ch2.fit(X, y)\n",
    "top_k = ch2.get_support(indices=True)\n",
    "print(top_k)"
   ]
  },
  {
   "cell_type": "code",
   "execution_count": 72,
   "metadata": {
    "colab": {
     "base_uri": "https://localhost:8080/",
     "height": 54
    },
    "colab_type": "code",
    "id": "CTr6IyUXU9b_",
    "outputId": "65dcb7fc-972d-477a-bf32-b6aa2ca3c820"
   },
   "outputs": [
    {
     "name": "stdout",
     "output_type": "stream",
     "text": [
      "['Active sport', 'Science and technology', 'Adrenaline sports', 'Healthy eating', 'Eating to survive', 'Health', 'Branded clothing', 'Entertainment spending', 'Spending on looks', 'Spending on gadgets']\n"
     ]
    }
   ],
   "source": [
    "top_features = [features[t] for t in top_k]\n",
    "print(top_features)"
   ]
  },
  {
   "cell_type": "code",
   "execution_count": 73,
   "metadata": {
    "colab": {
     "base_uri": "https://localhost:8080/",
     "height": 374
    },
    "colab_type": "code",
    "id": "u2diX25isfaX",
    "outputId": "07b60c1b-7453-4415-b960-1b015e7e2eda"
   },
   "outputs": [
    {
     "name": "stdout",
     "output_type": "stream",
     "text": [
      "(957, 10) (957,)\n",
      "\n",
      "* * * * * * * * * * * * * * * * * * * * \n",
      "2.0    307\n",
      "1.0    272\n",
      "3.0    213\n",
      "0.0    165\n",
      "Name: Spending on healthy eating, dtype: int64\n"
     ]
    }
   ],
   "source": [
    "# Select a new dataframe with top k features from X\n",
    "# X, X_pred_ = ch2.transform(X), ch2.transform(X_pred_)\n",
    "X = df_train[top_features]\n",
    "print(X.shape, y.shape)\n",
    "print('\\n' + '* ' * 20)\n",
    "\n",
    "# Double check target\n",
    "print(y.value_counts())"
   ]
  },
  {
   "cell_type": "markdown",
   "metadata": {},
   "source": [
    "### **3. Train and Validate Baseline Models**\n",
    "> #### **3.1. Set up Librabries and Helper Functions**"
   ]
  },
  {
   "cell_type": "code",
   "execution_count": 74,
   "metadata": {
    "colab": {
     "base_uri": "https://localhost:8080/",
     "height": 34
    },
    "colab_type": "code",
    "id": "xGg3wiLiw6zK",
    "outputId": "597ca322-f786-4ca3-bc1f-ecfeb81b2ab5"
   },
   "outputs": [
    {
     "name": "stdout",
     "output_type": "stream",
     "text": [
      "Setup OK. Ready for training!\n"
     ]
    }
   ],
   "source": [
    "from sklearn.svm import SVC\n",
    "from sklearn.linear_model import LogisticRegression\n",
    "from sklearn.neighbors import KNeighborsClassifier\n",
    "from sklearn.ensemble import RandomForestClassifier\n",
    "from sklearn.ensemble import ExtraTreesClassifier\n",
    "from sklearn.ensemble import BaggingClassifier\n",
    "from sklearn.model_selection import StratifiedKFold, KFold\n",
    "from sklearn.discriminant_analysis import QuadraticDiscriminantAnalysis\n",
    "from sklearn.neural_network import MLPClassifier\n",
    "from sklearn.metrics import accuracy_score\n",
    "from sklearn.metrics import confusion_matrix\n",
    "\n",
    "def get_models(seed=111, n_trees=100):\n",
    "    models = {}\n",
    "    # Logistic Regression\n",
    "    models['LGR'] = LogisticRegression()\n",
    "    # Support Vector Classifier\n",
    "    models['SVC'] = SVC(gamma='auto')\n",
    "    # KNearest Neighbors Classifier\n",
    "    models['KNN'] = KNeighborsClassifier(n_neighbors=3)\n",
    "    # Bagging Classifier\n",
    "    models['BAG'] = BaggingClassifier(n_estimators=n_trees, random_state=seed )\n",
    "    # Random Forest Classifier\n",
    "    models['RFR'] = RandomForestClassifier(n_estimators=n_trees, random_state=seed)\n",
    "    # Extra Trees Classifier\n",
    "    models['ETC'] = ExtraTreesClassifier(n_estimators=n_trees, random_state=seed)\n",
    "    # Quadratic Discriminant Analysis\n",
    "    models['QDA'] = QuadraticDiscriminantAnalysis()\n",
    "    # Neural Network\n",
    "    models['ANN'] = MLPClassifier()\n",
    "    return models\n",
    "\n",
    "print('Setup OK. Ready for training!')"
   ]
  },
  {
   "cell_type": "markdown",
   "metadata": {},
   "source": [
    "> #### **3.2. Train and Validate Models**"
   ]
  },
  {
   "cell_type": "code",
   "execution_count": 75,
   "metadata": {
    "colab": {
     "base_uri": "https://localhost:8080/",
     "height": 1000
    },
    "colab_type": "code",
    "id": "isE6AJsmxBVt",
    "outputId": "cdbbb833-694e-4500-d9d2-3caf8fd928c3"
   },
   "outputs": [
    {
     "name": "stdout",
     "output_type": "stream",
     "text": [
      "Model\tAccuracy (Mean)\tAccuracy (STD)\n",
      "LGR\t0.385\t\t0.052\n",
      "\tConfusion Matrix:\n",
      "[[ 45  59  51  10]\n",
      " [ 33  88 123  28]\n",
      " [ 26  70 161  50]\n",
      " [  5  46  88  74]]\n",
      "\n",
      "* * * * * * * * * * * * * * * \n",
      "Model\tAccuracy (Mean)\tAccuracy (STD)\n",
      "SVC\t0.411\t\t0.040\n",
      "\tConfusion Matrix:\n",
      "[[ 36  61  55  13]\n",
      " [ 23 130  89  30]\n",
      " [ 19  95 153  40]\n",
      " [ 11  45  83  74]]\n",
      "\n",
      "* * * * * * * * * * * * * * * \n",
      "Model\tAccuracy (Mean)\tAccuracy (STD)\n",
      "KNN\t0.321\t\t0.061\n",
      "\tConfusion Matrix:\n",
      "[[ 44  66  43  12]\n",
      " [ 60 120  69  23]\n",
      " [ 70 118  89  30]\n",
      " [ 36  71  52  54]]\n",
      "\n",
      "* * * * * * * * * * * * * * * \n",
      "Model\tAccuracy (Mean)\tAccuracy (STD)\n",
      "BAG\t0.369\t\t0.057\n",
      "\tConfusion Matrix:\n",
      "[[ 42  61  47  15]\n",
      " [ 38  99 102  33]\n",
      " [ 32  90 130  55]\n",
      " [ 13  41  77  82]]\n",
      "\n",
      "* * * * * * * * * * * * * * * \n",
      "Model\tAccuracy (Mean)\tAccuracy (STD)\n",
      "RFR\t0.385\t\t0.080\n",
      "\tConfusion Matrix:\n",
      "[[ 40  69  41  15]\n",
      " [ 34 103 100  35]\n",
      " [ 25  88 144  50]\n",
      " [ 14  39  79  81]]\n",
      "\n",
      "* * * * * * * * * * * * * * * \n",
      "Model\tAccuracy (Mean)\tAccuracy (STD)\n",
      "ETC\t0.380\t\t0.070\n",
      "\tConfusion Matrix:\n",
      "[[ 37  60  51  17]\n",
      " [ 37  98 103  34]\n",
      " [ 28  80 152  47]\n",
      " [ 14  45  77  77]]\n",
      "\n",
      "* * * * * * * * * * * * * * * \n",
      "Model\tAccuracy (Mean)\tAccuracy (STD)\n",
      "QDA\t0.396\t\t0.055\n",
      "\tConfusion Matrix:\n",
      "[[ 47  62  40  16]\n",
      " [ 31 112 100  29]\n",
      " [ 24  90 145  48]\n",
      " [ 14  43  81  75]]\n",
      "\n",
      "* * * * * * * * * * * * * * * \n",
      "Model\tAccuracy (Mean)\tAccuracy (STD)\n",
      "ANN\t0.389\t\t0.066\n",
      "\tConfusion Matrix:\n",
      "[[ 45  60  43  17]\n",
      " [ 33  97 114  28]\n",
      " [ 27  78 152  50]\n",
      " [ 18  47  72  76]]\n",
      "\n",
      "* * * * * * * * * * * * * * * \n"
     ]
    }
   ],
   "source": [
    "from sklearn.model_selection import cross_val_score as CVS\n",
    "from sklearn.model_selection import cross_val_predict as CVP\n",
    "\n",
    "seed, n_trees = 111, 100\n",
    "models = get_models(seed, n_trees)\n",
    "\n",
    "X, y = np.array(X), np.array(y)\n",
    "model_accuracy, m = {}, len(np.unique(y))\n",
    "\n",
    "for name, model in models.items():\n",
    "  acc, cfm = [], np.zeros((m,m))\n",
    "  kf = KFold(n_splits=20, shuffle=True, random_state=seed)\n",
    "  acc = CVS(model, X, y, cv=kf, scoring='accuracy')\n",
    "  y_pred = CVP(model, X, y, cv=kf)\n",
    "  cfm = confusion_matrix(y, y_pred)\n",
    "  model_accuracy[name] = acc\n",
    "  print('Model\\tAccuracy (Mean)\\tAccuracy (STD)')\n",
    "  print('{}\\t{:.3f}\\t\\t{:.3f}'.format(name, np.mean(acc), np.std(acc)))\n",
    "  print('\\tConfusion Matrix:')\n",
    "  print(cfm)\n",
    "  print('\\n' + '* ' * 15)"
   ]
  },
  {
   "cell_type": "markdown",
   "metadata": {},
   "source": [
    "> #### **3.3. Visualize Accuracy Scores**"
   ]
  },
  {
   "cell_type": "code",
   "execution_count": 76,
   "metadata": {
    "colab": {
     "base_uri": "https://localhost:8080/",
     "height": 483
    },
    "colab_type": "code",
    "id": "ILfHuhkMxWvO",
    "outputId": "d1e2041d-8ec1-405b-e5a4-e31a10bedbfa"
   },
   "outputs": [
    {
     "data": {
      "image/png": "[encoded data removed]",
      "text/plain": [
       "<Figure size 864x576 with 1 Axes>"
      ]
     },
     "metadata": {
      "needs_background": "light"
     },
     "output_type": "display_data"
    }
   ],
   "source": [
    "# Plot the accuracy scores\n",
    "plt.boxplot(list(model_accuracy.values()), \n",
    "            labels=list(model_accuracy.keys()), showmeans=True)\n",
    "plt.grid()\n",
    "plt.gcf().set_size_inches(12,8)\n",
    "plt.show()"
   ]
  },
  {
   "cell_type": "markdown",
   "metadata": {},
   "source": [
    "### **4. Improve Model Performances by Stacking the Best Models**"
   ]
  },
  {
   "cell_type": "code",
   "execution_count": 83,
   "metadata": {
    "colab": {
     "base_uri": "https://localhost:8080/",
     "height": 170
    },
    "colab_type": "code",
    "id": "tlVlNCiJk8s6",
    "outputId": "45a35b3f-a8b8-4a0c-92e0-46a6aa90c971"
   },
   "outputs": [
    {
     "name": "stdout",
     "output_type": "stream",
     "text": [
      "Model\tAccuracy (Mean)\tAccuracy (STD)\n",
      "STACK\t0.411\t\t0.047\n",
      "\tConfusion Matrix:\n",
      "[[ 39  54  62  10]\n",
      " [ 19 116 117  20]\n",
      " [ 17  88 164  38]\n",
      " [ 11  48  87  67]]\n",
      "\n",
      "* * * * * * * * * * * * * * * \n"
     ]
    }
   ],
   "source": [
    "from sklearn.ensemble import StackingClassifier\n",
    "\n",
    "seed, n_trees = 111, 100\n",
    "models = get_models(seed, n_trees)\n",
    "\n",
    "hidden_layers = [('QDA', models['QDA']), ('SVC', models['SVC'])]\n",
    "last_layer = models['ANN']\n",
    "model = StackingClassifier(estimators=hidden_layers, final_estimator=last_layer)\n",
    "\n",
    "m = len(np.unique(y))\n",
    "acc, cfm = [], np.zeros((m,m))\n",
    "\n",
    "kf = KFold(n_splits=20, shuffle=True, random_state=seed)\n",
    "acc = CVS(model, X, y, cv=kf, scoring='accuracy')\n",
    "y_pred = CVP(model, X, y, cv=kf)\n",
    "cfm = confusion_matrix(y, y_pred)\n",
    "model_accuracy['STACK'] = acc\n",
    "print('Model\\tAccuracy (Mean)\\tAccuracy (STD)')\n",
    "print('STACK\\t{:.3f}\\t\\t{:.3f}'.format(np.mean(acc), np.std(acc)))\n",
    "print('\\tConfusion Matrix:')\n",
    "print(cfm)\n",
    "print('\\n' + '* ' * 15)"
   ]
  },
  {
   "cell_type": "code",
   "execution_count": 80,
   "metadata": {
    "colab": {
     "base_uri": "https://localhost:8080/",
     "height": 483
    },
    "colab_type": "code",
    "id": "Z7i4hryeusR7",
    "outputId": "c4039a0e-cbb0-4851-d292-ecc2b02c8a41"
   },
   "outputs": [
    {
     "data": {
      "image/png": "[encoded data removed]",
      "text/plain": [
       "<Figure size 864x576 with 1 Axes>"
      ]
     },
     "metadata": {
      "needs_background": "light"
     },
     "output_type": "display_data"
    }
   ],
   "source": [
    "# Plot the accuracy scores\n",
    "plt.boxplot(list(model_accuracy.values()), \n",
    "            labels=list(model_accuracy.keys()), showmeans=True)\n",
    "plt.grid()\n",
    "plt.gcf().set_size_inches(12,8)\n",
    "plt.show()"
   ]
  },
  {
   "cell_type": "code",
   "execution_count": null,
   "metadata": {
    "colab": {},
    "colab_type": "code",
    "id": "H72Sx1ovQpe8"
   },
   "outputs": [],
   "source": []
  }
 ],
 "metadata": {
  "accelerator": "TPU",
  "colab": {
   "collapsed_sections": [],
   "name": "Psy.ipynb",
   "provenance": [
    {
     "file_id": "https://github.com/calldrj/NSF.Summer.2020/blob/master/Psy.ipynb",
     "timestamp": 1597255568502
    }
   ]
  },
  "kernelspec": {
   "display_name": "Python 3",
   "language": "python",
   "name": "python3"
  },
  "language_info": {
   "codemirror_mode": {
    "name": "ipython",
    "version": 3
   },
   "file_extension": ".py",
   "mimetype": "text/x-python",
   "name": "python",
   "nbconvert_exporter": "python",
   "pygments_lexer": "ipython3",
   "version": "3.7.7"
  }
 },
 "nbformat": 4,
 "nbformat_minor": 1
}
