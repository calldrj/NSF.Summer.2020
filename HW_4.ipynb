{
 "cells": [
  {
   "cell_type": "markdown",
   "metadata": {},
   "source": [
    "### Problem 6.11\n",
    "(Math: approximate the square root) There are several techniques for implement- ing the sqrt function in the math module. One such technique is known as the Babylonian function.    \n",
    "It approximates the square root of a number, n, by repeatedly performing a calculation using the following formula:   \n",
    "nextGuess = (lastGuess + (n / lastGuess)) / 2   \n",
    "When nextGuess and lastGuess are almost identical, nextGuess is the approximated square root.    \n",
    "The initial guess can be any positive value (e.g., 1).  \n",
    "This value will be the starting value for lastGuess.   \n",
    "If the difference between nextGuess and lastGuess is less than a very small number, such as 0.0001, you can claim that nextGuess is the approximated square root of n.   \n",
    "If not, nextGuess becomes lastGuess and the approximation process continues.   \n",
    "Implement the following function that returns the square root of n.   \n",
    "def sqrt(n):"
   ]
  },
  {
   "cell_type": "code",
   "execution_count": 1,
   "metadata": {},
   "outputs": [],
   "source": [
    "def sqrt(n, error=.0001): \n",
    "    \"\"\" Return the square root value of input n\n",
    "    n: a non-negative number\n",
    "    error: 0.0001 by default, can be changed at user's option\n",
    "    \"\"\"\n",
    "    # Print error in case either input is a negative number\n",
    "    if n < 0:\n",
    "        print('*** Error: Cannot find a square root of a negative number ***')\n",
    "        return\n",
    "    \n",
    "    # Return 0 in case n is 0\n",
    "    if n == 0:\n",
    "        return 0\n",
    "    \n",
    "     # Innitialize the Guess values\n",
    "    lastGuess = n\n",
    "    nextGuess = (lastGuess + (n / lastGuess)) / 2\n",
    "    \n",
    "    # Repeatedly performing a calculation until the difference is smaller than error\n",
    "    while abs(lastGuess - nextGuess) > error:\n",
    "        lastGuess = nextGuess\n",
    "        nextGuess = (lastGuess + (n / lastGuess)) / 2\n",
    "        \n",
    "    # Values converge, return value of nextGuess\n",
    "    return nextGuess"
   ]
  },
  {
   "cell_type": "code",
   "execution_count": 2,
   "metadata": {},
   "outputs": [
    {
     "name": "stdout",
     "output_type": "stream",
     "text": [
      "The square root of 1 is 1.0000\n",
      "The square root of 4 is 2.0000\n",
      "The square root of 100 is 10.0000\n",
      "The square root of 144 is 12.0000\n",
      "The square root of 1000 is 31.6228\n",
      "*** Error: Cannot find a square root of a negative number ***\n"
     ]
    }
   ],
   "source": [
    "for k in [0, 1, 4, 100, 144, 1000, -1010]:\n",
    "    if sqrt(k):\n",
    "        print('The square root of {} is {:.4f}'.format(k, sqrt(k)))"
   ]
  },
  {
   "cell_type": "markdown",
   "metadata": {},
   "source": [
    "### Probem 6.34 (Geometry: area of a regular polygon) \n",
    "Rewrite Exercise 3.5 using the following\n",
    "function to return the area of a regular polygon:\n",
    "def area(n, side):"
   ]
  },
  {
   "cell_type": "code",
   "execution_count": 3,
   "metadata": {},
   "outputs": [],
   "source": [
    "def area(n, side):\n",
    "    \"\"\" Return the area of a regular polygon with n side and each with length side\n",
    "    n, side : non-negative numbers\n",
    "    \"\"\"\n",
    "    # Return None in case either input value, try-except can be used here, but simple condition \n",
    "    if n < 0:\n",
    "        print('*** Error: Invalid (negative) value(s) ***')\n",
    "        return\n",
    "    \n",
    "    # Return 0 in case n is 0\n",
    "    if n == 0:\n",
    "        return 0\n",
    "    \n",
    "    # Compute the area of a valid polygon then return\n",
    "    import math\n",
    "    area = ((side / 2)**2) * (n / math.tan(math.pi / n))\n",
    "    return area"
   ]
  },
  {
   "cell_type": "code",
   "execution_count": 4,
   "metadata": {},
   "outputs": [
    {
     "name": "stdout",
     "output_type": "stream",
     "text": [
      "72.69017017488385\n",
      "0\n",
      "*** Error: Invalid (negative) value(s) ***\n",
      "None\n"
     ]
    }
   ],
   "source": [
    "print(area(5, 6.5))\n",
    "print(area(0, 10**10))\n",
    "print(area(-1000, 5.1))"
   ]
  },
  {
   "cell_type": "markdown",
   "metadata": {},
   "source": [
    "###  8.3 (Check password) Some Web sites impose certain rules for passwords. \n",
    "Write a function that checks whether a string is a valid password.   \n",
    "Suppose the password rules are as follows:  \n",
    "A password must have at least eight characters.   \n",
    "A password must consist of only letters and digits.   \n",
    "A password must contain at least two digits."
   ]
  },
  {
   "cell_type": "code",
   "execution_count": 5,
   "metadata": {},
   "outputs": [],
   "source": [
    "def is_at_least_eight_chars(password):\n",
    "    return len(password) > 7\n",
    "\n",
    "def is_only_letter_and_digits(password):\n",
    "    return password.isalnum()\n",
    "\n",
    "def is_at_least_two_digit(password):\n",
    "    digits_in_password = [d for d in password if d.isdigit()]\n",
    "    return len(digits_in_password) > 1\n",
    "\n",
    "def validate(password):\n",
    "    if is_at_least_eight_chars(password)   and\\\n",
    "       is_only_letter_and_digits(password) and\\\n",
    "       is_at_least_two_digit(password):\n",
    "        print('Password is valid.')\n",
    "    else:\n",
    "        print('Password is invalid.')"
   ]
  },
  {
   "cell_type": "code",
   "execution_count": 6,
   "metadata": {},
   "outputs": [
    {
     "name": "stdout",
     "output_type": "stream",
     "text": [
      "Password is valid.\n",
      "Password is invalid.\n",
      "Password is valid.\n",
      "Password is invalid.\n"
     ]
    }
   ],
   "source": [
    "for p in ['Password12', 'nsf123', 'todayisMonday07132020', '*&**Hello)']:\n",
    "    validate(p)"
   ]
  },
  {
   "cell_type": "markdown",
   "metadata": {},
   "source": [
    "### Problem 8.4 (Occurrences of a specified character) \n",
    "Write a function that finds the number of occurrences of a specified character in a string using the following header:   \n",
    "def count(s, ch):   \n",
    "The str class has the count method. Implement your method without using the count method.    \n",
    "For example, count(\"Welcome\", 'e') returns 2.   \n",
    "Write a test program that prompts the user to enter a string followed by a character and dis- plays the number of occurrences of the character in the string."
   ]
  },
  {
   "cell_type": "code",
   "execution_count": 7,
   "metadata": {},
   "outputs": [],
   "source": [
    "def count(s, ch):\n",
    "    chars = [ c == ch for c in s]\n",
    "    return sum(chars)"
   ]
  },
  {
   "cell_type": "code",
   "execution_count": 8,
   "metadata": {},
   "outputs": [
    {
     "name": "stdout",
     "output_type": "stream",
     "text": [
      "2\n",
      "3\n",
      "0\n"
     ]
    }
   ],
   "source": [
    "print(count('Welcome', 'e'))\n",
    "print(count('Occurrences', 'c'))\n",
    "print(count('Occurrences', 'A'))"
   ]
  }
 ],
 "metadata": {
  "kernelspec": {
   "display_name": "Python 3",
   "language": "python",
   "name": "python3"
  },
  "language_info": {
   "codemirror_mode": {
    "name": "ipython",
    "version": 3
   },
   "file_extension": ".py",
   "mimetype": "text/x-python",
   "name": "python",
   "nbconvert_exporter": "python",
   "pygments_lexer": "ipython3",
   "version": "3.7.7"
  }
 },
 "nbformat": 4,
 "nbformat_minor": 4
}
